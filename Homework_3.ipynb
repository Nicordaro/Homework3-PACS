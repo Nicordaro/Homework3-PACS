{
  "nbformat": 4,
  "nbformat_minor": 0,
  "metadata": {
    "kernelspec": {
      "language": "python",
      "display_name": "Python 3",
      "name": "python3"
    },
    "language_info": {
      "pygments_lexer": "ipython3",
      "nbconvert_exporter": "python",
      "version": "3.6.4",
      "file_extension": ".py",
      "codemirror_mode": {
        "name": "ipython",
        "version": 3
      },
      "name": "python",
      "mimetype": "text/x-python"
    },
    "colab": {
      "name": "HomeWork_3_Kaggle.ipynb",
      "provenance": [],
      "collapsed_sections": [],
      "include_colab_link": true
    },
    "accelerator": "GPU",
    "widgets": {
      "application/vnd.jupyter.widget-state+json": {
        "057d6b379cf1472b83cc7ef9761ad5c2": {
          "model_module": "@jupyter-widgets/controls",
          "model_name": "HBoxModel",
          "state": {
            "_view_name": "HBoxView",
            "_dom_classes": [],
            "_model_name": "HBoxModel",
            "_view_module": "@jupyter-widgets/controls",
            "_model_module_version": "1.5.0",
            "_view_count": null,
            "_view_module_version": "1.5.0",
            "box_style": "",
            "layout": "IPY_MODEL_a148a1cad9d14dec9993e623d143376e",
            "_model_module": "@jupyter-widgets/controls",
            "children": [
              "IPY_MODEL_e5030a0b061840b79afe3addc4b3b8ac",
              "IPY_MODEL_9aaaae3946374937bf06da6b4e098138"
            ]
          }
        },
        "a148a1cad9d14dec9993e623d143376e": {
          "model_module": "@jupyter-widgets/base",
          "model_name": "LayoutModel",
          "state": {
            "_view_name": "LayoutView",
            "grid_template_rows": null,
            "right": null,
            "justify_content": null,
            "_view_module": "@jupyter-widgets/base",
            "overflow": null,
            "_model_module_version": "1.2.0",
            "_view_count": null,
            "flex_flow": null,
            "width": null,
            "min_width": null,
            "border": null,
            "align_items": null,
            "bottom": null,
            "_model_module": "@jupyter-widgets/base",
            "top": null,
            "grid_column": null,
            "overflow_y": null,
            "overflow_x": null,
            "grid_auto_flow": null,
            "grid_area": null,
            "grid_template_columns": null,
            "flex": null,
            "_model_name": "LayoutModel",
            "justify_items": null,
            "grid_row": null,
            "max_height": null,
            "align_content": null,
            "visibility": null,
            "align_self": null,
            "height": null,
            "min_height": null,
            "padding": null,
            "grid_auto_rows": null,
            "grid_gap": null,
            "max_width": null,
            "order": null,
            "_view_module_version": "1.2.0",
            "grid_template_areas": null,
            "object_position": null,
            "object_fit": null,
            "grid_auto_columns": null,
            "margin": null,
            "display": null,
            "left": null
          }
        },
        "e5030a0b061840b79afe3addc4b3b8ac": {
          "model_module": "@jupyter-widgets/controls",
          "model_name": "FloatProgressModel",
          "state": {
            "_view_name": "ProgressView",
            "style": "IPY_MODEL_7564c2e11b3d403f91a365607a9c5d13",
            "_dom_classes": [],
            "description": "100%",
            "_model_name": "FloatProgressModel",
            "bar_style": "success",
            "max": 244418560,
            "_view_module": "@jupyter-widgets/controls",
            "_model_module_version": "1.5.0",
            "value": 244418560,
            "_view_count": null,
            "_view_module_version": "1.5.0",
            "orientation": "horizontal",
            "min": 0,
            "description_tooltip": null,
            "_model_module": "@jupyter-widgets/controls",
            "layout": "IPY_MODEL_ce33639b44c344e596ab220ff39d6130"
          }
        },
        "9aaaae3946374937bf06da6b4e098138": {
          "model_module": "@jupyter-widgets/controls",
          "model_name": "HTMLModel",
          "state": {
            "_view_name": "HTMLView",
            "style": "IPY_MODEL_5d5464c445d84b29ae014a410f66eb81",
            "_dom_classes": [],
            "description": "",
            "_model_name": "HTMLModel",
            "placeholder": "​",
            "_view_module": "@jupyter-widgets/controls",
            "_model_module_version": "1.5.0",
            "value": " 233M/233M [00:38&lt;00:00, 6.34MB/s]",
            "_view_count": null,
            "_view_module_version": "1.5.0",
            "description_tooltip": null,
            "_model_module": "@jupyter-widgets/controls",
            "layout": "IPY_MODEL_f8c4c6ce0de64342a2339c34827f48a8"
          }
        },
        "7564c2e11b3d403f91a365607a9c5d13": {
          "model_module": "@jupyter-widgets/controls",
          "model_name": "ProgressStyleModel",
          "state": {
            "_view_name": "StyleView",
            "_model_name": "ProgressStyleModel",
            "description_width": "initial",
            "_view_module": "@jupyter-widgets/base",
            "_model_module_version": "1.5.0",
            "_view_count": null,
            "_view_module_version": "1.2.0",
            "bar_color": null,
            "_model_module": "@jupyter-widgets/controls"
          }
        },
        "ce33639b44c344e596ab220ff39d6130": {
          "model_module": "@jupyter-widgets/base",
          "model_name": "LayoutModel",
          "state": {
            "_view_name": "LayoutView",
            "grid_template_rows": null,
            "right": null,
            "justify_content": null,
            "_view_module": "@jupyter-widgets/base",
            "overflow": null,
            "_model_module_version": "1.2.0",
            "_view_count": null,
            "flex_flow": null,
            "width": null,
            "min_width": null,
            "border": null,
            "align_items": null,
            "bottom": null,
            "_model_module": "@jupyter-widgets/base",
            "top": null,
            "grid_column": null,
            "overflow_y": null,
            "overflow_x": null,
            "grid_auto_flow": null,
            "grid_area": null,
            "grid_template_columns": null,
            "flex": null,
            "_model_name": "LayoutModel",
            "justify_items": null,
            "grid_row": null,
            "max_height": null,
            "align_content": null,
            "visibility": null,
            "align_self": null,
            "height": null,
            "min_height": null,
            "padding": null,
            "grid_auto_rows": null,
            "grid_gap": null,
            "max_width": null,
            "order": null,
            "_view_module_version": "1.2.0",
            "grid_template_areas": null,
            "object_position": null,
            "object_fit": null,
            "grid_auto_columns": null,
            "margin": null,
            "display": null,
            "left": null
          }
        },
        "5d5464c445d84b29ae014a410f66eb81": {
          "model_module": "@jupyter-widgets/controls",
          "model_name": "DescriptionStyleModel",
          "state": {
            "_view_name": "StyleView",
            "_model_name": "DescriptionStyleModel",
            "description_width": "",
            "_view_module": "@jupyter-widgets/base",
            "_model_module_version": "1.5.0",
            "_view_count": null,
            "_view_module_version": "1.2.0",
            "_model_module": "@jupyter-widgets/controls"
          }
        },
        "f8c4c6ce0de64342a2339c34827f48a8": {
          "model_module": "@jupyter-widgets/base",
          "model_name": "LayoutModel",
          "state": {
            "_view_name": "LayoutView",
            "grid_template_rows": null,
            "right": null,
            "justify_content": null,
            "_view_module": "@jupyter-widgets/base",
            "overflow": null,
            "_model_module_version": "1.2.0",
            "_view_count": null,
            "flex_flow": null,
            "width": null,
            "min_width": null,
            "border": null,
            "align_items": null,
            "bottom": null,
            "_model_module": "@jupyter-widgets/base",
            "top": null,
            "grid_column": null,
            "overflow_y": null,
            "overflow_x": null,
            "grid_auto_flow": null,
            "grid_area": null,
            "grid_template_columns": null,
            "flex": null,
            "_model_name": "LayoutModel",
            "justify_items": null,
            "grid_row": null,
            "max_height": null,
            "align_content": null,
            "visibility": null,
            "align_self": null,
            "height": null,
            "min_height": null,
            "padding": null,
            "grid_auto_rows": null,
            "grid_gap": null,
            "max_width": null,
            "order": null,
            "_view_module_version": "1.2.0",
            "grid_template_areas": null,
            "object_position": null,
            "object_fit": null,
            "grid_auto_columns": null,
            "margin": null,
            "display": null,
            "left": null
          }
        }
      }
    }
  },
  "cells": [
    {
      "cell_type": "markdown",
      "metadata": {
        "id": "view-in-github",
        "colab_type": "text"
      },
      "source": [
        "<a href=\"https://colab.research.google.com/github/Nicordaro/Homework3_PACS/blob/master/Homework_3.ipynb\" target=\"_parent\"><img src=\"https://colab.research.google.com/assets/colab-badge.svg\" alt=\"Open In Colab\"/></a>"
      ]
    },
    {
      "cell_type": "markdown",
      "metadata": {
        "id": "c9QcGnGPdX2C",
        "colab_type": "text"
      },
      "source": [
        "\n",
        "**Install requirements**"
      ]
    },
    {
      "cell_type": "code",
      "metadata": {
        "id": "4bQBpovOaEI1",
        "colab_type": "code",
        "colab": {}
      },
      "source": [
        "def loss_plot(losses, steps):\n",
        "  ### FOR MEAN STD PLOT https://stackoverflow.com/questions/22481854/plot-mean-and-standard-deviation\n",
        "  from scipy import interpolate\n",
        "\n",
        "  tck,u     = interpolate.splprep([steps,losses],s = 0 )\n",
        "  xnew,ynew = interpolate.splev( np.linspace( 0, 1, 1000 ), tck,der = 0)\n",
        "\n",
        "  fig, ax = plt.subplots(figsize=(20,19), facecolor='white')\n",
        "\n",
        "  plt.rc('font', size=20)\n",
        "  plt.plot(steps,losses,'.' , xnew ,ynew, label = \"accuracy\", c='red' )\n",
        "  ax.set_ylabel(\"Loss\")\n",
        "  ax.set_xlabel(\"Steps\")\n",
        "  ax.minorticks_on()\n",
        "  plt.title(\"Loss trend\")\n",
        "  plt.yticks(np.arange(0, max(losses)+.1, .1))\n",
        "  plt.xticks(np.arange(0, len(steps)*10, 10))\n",
        "  plt.grid(axis='y',which='major', linestyle='-', linewidth='0.5', color='black') \n",
        "  plt.grid(axis='y',which='minor', linestyle=':', linewidth='0.5', color='grey')\n",
        "  for in_i, in_j in zip(steps, losses):  # Plot also the value of the point close to it\n",
        "    if (in_i)%30 ==0 or in_i ==0 or in_i==170:\n",
        "      ax.annotate(str(round(in_j, 5)), xy=(in_i, in_j), xytext=(in_i, in_j))\n",
        "\n",
        "  plt.savefig('test.png', format='png', dpi=300)\n",
        "  plt.show()"
      ],
      "execution_count": 0,
      "outputs": []
    },
    {
      "cell_type": "markdown",
      "metadata": {
        "id": "fo942LMOdlh4",
        "colab_type": "text"
      },
      "source": [
        "**Import libraries**"
      ]
    },
    {
      "cell_type": "code",
      "metadata": {
        "id": "DokFOdD1dJEl",
        "trusted": true,
        "colab_type": "code",
        "colab": {}
      },
      "source": [
        "import os\n",
        "import copy\n",
        "import logging\n",
        "\n",
        "import torch\n",
        "import torch.nn as nn\n",
        "import torch.optim as optim\n",
        "from torch.utils.data import Subset, DataLoader\n",
        "from torch.backends import cudnn\n",
        "from torch.hub import load_state_dict_from_url\n",
        "from torch.autograd import Function\n",
        "import numpy as np\n",
        "import matplotlib.pyplot as plt\n",
        "\n",
        "\n",
        "import torchvision\n",
        "from torchvision import transforms\n",
        "from torchvision.models import alexnet\n",
        "from torchvision.datasets import ImageFolder\n",
        "\n",
        "from PIL import Image\n",
        "from tqdm import tqdm"
      ],
      "execution_count": 0,
      "outputs": []
    },
    {
      "cell_type": "markdown",
      "metadata": {
        "id": "OIDLJuIXK_vh",
        "colab_type": "text"
      },
      "source": [
        "**Set Arguments**"
      ]
    },
    {
      "cell_type": "code",
      "metadata": {
        "id": "d5PkYfqfK_SA",
        "trusted": true,
        "colab_type": "code",
        "colab": {}
      },
      "source": [
        "DEVICE = 'cuda' # 'cuda' or 'cpu'\n",
        "\n",
        "NUM_CLASSES = 7      # 101 + 1: There is am extra Background class that should be removed \n",
        "\n",
        "BATCH_SIZE = 256     # Higher batch sizes allows for larger learning rates. An empirical heuristic suggests that, when changing\n",
        "                     # the batch size, learning rate should change by the same factor to have comparable results\n",
        "\n",
        "LR =  1e-3           # The initial Learning Rate\n",
        "LR_DANN = 1e-3\n",
        "MOMENTUM = 0.9       # Hyperparameter for SGD, keep this at 0.9 when using SGD\n",
        "WEIGHT_DECAY = 5e-5  # Regularization, you can keep this at the default\n",
        "\n",
        "NUM_EPOCHS = 30      # Total number of training epochs (iterations over dataset)\n",
        "STEP_SIZE = 20       # How many epochs before decreasing learning rate (if using a step-down policy)\n",
        "GAMMA = 0.1          # Multiplicative factor for learning rate step-down\n",
        "\n",
        "LOG_FREQUENCY = 10"
      ],
      "execution_count": 0,
      "outputs": []
    },
    {
      "cell_type": "markdown",
      "metadata": {
        "id": "9gwii0TBHvzh",
        "colab_type": "text"
      },
      "source": [
        "**Define Data Preprocessing**"
      ]
    },
    {
      "cell_type": "code",
      "metadata": {
        "id": "QUDdw4j2H0Mc",
        "trusted": true,
        "colab_type": "code",
        "colab": {}
      },
      "source": [
        "# Define transforms for training phase\n",
        "train_transform = transforms.Compose([transforms.Resize(256),      # Resizes short size of the PIL image to 256\n",
        "                                      transforms.CenterCrop(224),  # Crops a central square patch of the image\n",
        "                                                                   # 224 because torchvision's AlexNet needs a 224x224 input!\n",
        "                                                                   # Remember this when applying different transformations, otherwise you get an error\n",
        "                                      transforms.ToTensor(), # Turn PIL Image to torch.Tensor\n",
        "                                      transforms.Normalize((0.485, 0.456, 0.406), (0.229, 0.224, 0.225)) # Normalizes tensor with mean and standard deviation\n",
        "])\n",
        "# Define transforms for the evaluation phase\n",
        "eval_transform = transforms.Compose([transforms.Resize(256),\n",
        "                                      transforms.CenterCrop(224),\n",
        "                                      transforms.ToTensor(),\n",
        "                                      transforms.Normalize((0.485, 0.456, 0.406), (0.229, 0.224, 0.225))                                 \n",
        "])"
      ],
      "execution_count": 0,
      "outputs": []
    },
    {
      "cell_type": "markdown",
      "metadata": {
        "id": "2qYIHPzYLY7i",
        "colab_type": "text"
      },
      "source": [
        "**Prepare Dataset**"
      ]
    },
    {
      "cell_type": "code",
      "metadata": {
        "id": "QfVq_uDHLbsR",
        "trusted": true,
        "colab_type": "code",
        "outputId": "c1fbd8f2-bc47-4832-da68-4c02213c1431",
        "colab": {
          "base_uri": "https://localhost:8080/",
          "height": 153
        }
      },
      "source": [
        "# Clone github repository with data\n",
        "if not os.path.isdir('./Homework3_PACS'):\n",
        "  !git clone https://github.com/Nicordaro/Homework3_PACS\n",
        "from Homework3_PACS.DANN import dann\n",
        "DATA_DIR = 'Homework3_PACS/PACS'\n",
        "\n",
        "# Read folder for each domain\n",
        "Arts = ImageFolder(DATA_DIR+\"/art_painting\", transform=eval_transform)\n",
        "Cartoons = ImageFolder(DATA_DIR+\"/cartoon\", transform=train_transform) \n",
        "Photos = ImageFolder(DATA_DIR+\"/photo\", transform=train_transform) \n",
        "Sketches = ImageFolder(DATA_DIR+\"/sketch\", transform=train_transform)"
      ],
      "execution_count": 5,
      "outputs": [
        {
          "output_type": "stream",
          "text": [
            "Cloning into 'Homework3_PACS'...\n",
            "remote: Enumerating objects: 7, done.\u001b[K\n",
            "remote: Counting objects: 100% (7/7), done.\u001b[K\n",
            "remote: Compressing objects: 100% (7/7), done.\u001b[K\n",
            "remote: Total 10039 (delta 1), reused 0 (delta 0), pack-reused 10032\u001b[K\n",
            "Receiving objects: 100% (10039/10039), 174.13 MiB | 13.01 MiB/s, done.\n",
            "Resolving deltas: 100% (2/2), done.\n",
            "Checking out files: 100% (9994/9994), done.\n"
          ],
          "name": "stdout"
        }
      ]
    },
    {
      "cell_type": "markdown",
      "metadata": {
        "id": "FYEDQ7Z21ldN",
        "colab_type": "text"
      },
      "source": [
        "**Prepare Dataloaders**"
      ]
    },
    {
      "cell_type": "code",
      "metadata": {
        "id": "VriRw8SI1nle",
        "trusted": true,
        "colab_type": "code",
        "colab": {}
      },
      "source": [
        "# Dataloaders iterate over pytorch datasets and transparently provide useful functions (e.g. parallelization and shuffling)\n",
        "source_dataloader = DataLoader(Photos, batch_size=BATCH_SIZE, shuffle=True, num_workers=4, drop_last=True)\n",
        "target_dataloader = DataLoader(Arts, batch_size=BATCH_SIZE, shuffle=True, num_workers=4, drop_last=True)\n",
        "test_dataloader = DataLoader(Arts, batch_size=BATCH_SIZE, shuffle=False, num_workers=4)"
      ],
      "execution_count": 0,
      "outputs": []
    },
    {
      "cell_type": "markdown",
      "metadata": {
        "id": "x4ACQEaGbnqv",
        "colab_type": "text"
      },
      "source": [
        "**Prepare Network**"
      ]
    },
    {
      "cell_type": "code",
      "metadata": {
        "id": "M0IGiIp-bpiE",
        "trusted": true,
        "colab_type": "code",
        "outputId": "ab112499-a8b3-4fd0-a3c1-77fe3db56163",
        "colab": {
          "base_uri": "https://localhost:8080/",
          "height": 83,
          "referenced_widgets": [
            "057d6b379cf1472b83cc7ef9761ad5c2",
            "a148a1cad9d14dec9993e623d143376e",
            "e5030a0b061840b79afe3addc4b3b8ac",
            "9aaaae3946374937bf06da6b4e098138",
            "7564c2e11b3d403f91a365607a9c5d13",
            "ce33639b44c344e596ab220ff39d6130",
            "5d5464c445d84b29ae014a410f66eb81",
            "f8c4c6ce0de64342a2339c34827f48a8"
          ]
        }
      },
      "source": [
        "alexnet = torchvision.models.alexnet(pretrained = True)\n",
        "dann_net = dann(pretrained = True)\n",
        "\n",
        "alexnet.classifier[6] = nn.Linear(4096, NUM_CLASSES)\n",
        "dann_net.classifier[6] = nn.Linear(4096, NUM_CLASSES)"
      ],
      "execution_count": 5,
      "outputs": [
        {
          "output_type": "stream",
          "text": [
            "Downloading: \"https://download.pytorch.org/models/alexnet-owt-4df8aa71.pth\" to /root/.cache/torch/checkpoints/alexnet-owt-4df8aa71.pth\n"
          ],
          "name": "stderr"
        },
        {
          "output_type": "display_data",
          "data": {
            "application/vnd.jupyter.widget-view+json": {
              "model_id": "057d6b379cf1472b83cc7ef9761ad5c2",
              "version_minor": 0,
              "version_major": 2
            },
            "text/plain": [
              "HBox(children=(FloatProgress(value=0.0, max=244418560.0), HTML(value='')))"
            ]
          },
          "metadata": {
            "tags": []
          }
        },
        {
          "output_type": "stream",
          "text": [
            "\n"
          ],
          "name": "stdout"
        }
      ]
    },
    {
      "cell_type": "markdown",
      "metadata": {
        "id": "KEyL3H_R4qCf",
        "colab_type": "text"
      },
      "source": [
        "**Prepare Training**"
      ]
    },
    {
      "cell_type": "code",
      "metadata": {
        "id": "9sjq00G94tSc",
        "trusted": true,
        "colab_type": "code",
        "colab": {}
      },
      "source": [
        "# Define loss function\n",
        "criterion = nn.CrossEntropyLoss() # for classification, we use Cross Entropy\n",
        "\n",
        "# Choose parameters to optimize\n",
        "# To access a different set of parameters, you have to access submodules of AlexNet\n",
        "# (nn.Module objects, like AlexNet, implement the Composite Pattern)\n",
        "# e.g.: parameters of the fully connected layers: net.classifier.parameters()\n",
        "# e.g.: parameters of the convolutional layers: look at alexnet's source code ;) \n",
        "parameters_to_optimize = alexnet.parameters() # In this case we optimize over all the parameters of AlexNet\n",
        "dann_parameters_to_optimize = dann_net.parameters()\n",
        "# Define optimizer\n",
        "# An optimizer updates the weights based on loss\n",
        "# We use SGD with momentum\n",
        "optimizer = optim.SGD(parameters_to_optimize, lr=LR, momentum=MOMENTUM, weight_decay=WEIGHT_DECAY)\n",
        "dann_optimizer = optim.SGD(dann_parameters_to_optimize, lr=LR_DANN, momentum=MOMENTUM, weight_decay=WEIGHT_DECAY)\n",
        "# Define scheduler\n",
        "# A scheduler dynamically changes learning rate\n",
        "# The most common schedule is the step(-down), which multiplies learning rate by gamma every STEP_SIZE epochs\n",
        "scheduler = optim.lr_scheduler.StepLR(optimizer, step_size=STEP_SIZE, gamma=GAMMA)\n",
        "dann_scheduler = optim.lr_scheduler.StepLR(dann_optimizer, step_size=STEP_SIZE, gamma=GAMMA)"
      ],
      "execution_count": 0,
      "outputs": []
    },
    {
      "cell_type": "markdown",
      "metadata": {
        "id": "1QOHMV3Hu4DS",
        "colab_type": "text"
      },
      "source": [
        "**AlexNet**\n",
        "\n",
        "---\n",
        "\n"
      ]
    },
    {
      "cell_type": "markdown",
      "metadata": {
        "id": "AxYUli9d9uYQ",
        "colab_type": "text"
      },
      "source": [
        "_TRAIN_"
      ]
    },
    {
      "cell_type": "code",
      "metadata": {
        "id": "ZcoQ5fD49yT_",
        "trusted": true,
        "colab_type": "code",
        "outputId": "aeafa6d8-fdaf-4139-e20a-1ae6b9d531d0",
        "colab": {
          "base_uri": "https://localhost:8080/",
          "height": 323
        }
      },
      "source": [
        "best_loss = 1000\n",
        "# By default, everything is loaded to cpu\n",
        "net = alexnet.to(DEVICE) # this will bring the network to GPU if DEVICE is cuda\n",
        "best_model = net\n",
        "cudnn.benchmark # Calling this optimizes runtime\n",
        "\n",
        "current_step = 0\n",
        "loss_trend = []\n",
        "# Start iterating over the epochs\n",
        "for epoch in range(NUM_EPOCHS):\n",
        "  #print('Starting epoch {}/{}, LR = {}'.format(epoch+1, NUM_EPOCHS, scheduler.get_lr()))\n",
        "\n",
        "  # Iterate over the dataset\n",
        "  for images, labels in source_dataloader:\n",
        "    # Bring data over the device of choice\n",
        "    images = images.to(DEVICE)\n",
        "    labels = labels.to(DEVICE)\n",
        "\n",
        "    net.train() # Sets module in training mode\n",
        "\n",
        "    # PyTorch, by default, accumulates gradients after each backward pass\n",
        "    # We need to manually set the gradients to zero before starting a new iteration\n",
        "    optimizer.zero_grad() # Zero-ing the gradients\n",
        "\n",
        "    # Forward pass to the network\n",
        "    outputs = net(images)\n",
        "\n",
        "    # Compute loss based on output and ground truth\n",
        "    loss = criterion(outputs, labels)\n",
        "    loss_trend.append(loss.item())\n",
        "\n",
        "    # Log loss\n",
        "    if current_step % LOG_FREQUENCY == 0:\n",
        "      print('Step {}, Loss {}'.format(current_step, loss.item()))\n",
        "\n",
        "    # Compute gradients for each layer and update weights\n",
        "    loss.backward()  # backward pass: computes gradients\n",
        "    optimizer.step() # update weights based on accumulated gradients\n",
        "\n",
        "    if loss < best_loss:\n",
        "      best_loss = loss\n",
        "      best_model = copy.deepcopy(net)\n",
        "\n",
        "    current_step += 1\n",
        "\n",
        "  # Step the scheduler\n",
        "  scheduler.step() "
      ],
      "execution_count": 17,
      "outputs": [
        {
          "output_type": "stream",
          "text": [
            "Step 0, Loss 2.256640672683716\n",
            "Step 10, Loss 0.3315579295158386\n",
            "Step 20, Loss 0.12336339056491852\n",
            "Step 30, Loss 0.08774726092815399\n",
            "Step 40, Loss 0.050652239471673965\n",
            "Step 50, Loss 0.07596246898174286\n",
            "Step 60, Loss 0.04996557533740997\n",
            "Step 70, Loss 0.03226007521152496\n",
            "Step 80, Loss 0.023354988545179367\n",
            "Step 90, Loss 0.01569143682718277\n",
            "Step 100, Loss 0.016975753009319305\n",
            "Step 110, Loss 0.022757146507501602\n",
            "Step 120, Loss 0.021699637174606323\n",
            "Step 130, Loss 0.026726964861154556\n",
            "Step 140, Loss 0.014441931620240211\n",
            "Step 150, Loss 0.01704425737261772\n",
            "Step 160, Loss 0.013543888926506042\n",
            "Step 170, Loss 0.014189383015036583\n"
          ],
          "name": "stdout"
        }
      ]
    },
    {
      "cell_type": "markdown",
      "metadata": {
        "id": "UsHFI-GAJd69",
        "colab_type": "text"
      },
      "source": [
        "_TEST_"
      ]
    },
    {
      "cell_type": "code",
      "metadata": {
        "id": "EO3HV5pqJg1o",
        "trusted": true,
        "colab_type": "code",
        "outputId": "6aba9d59-6ba2-4947-9c8f-5636816baeb9",
        "colab": {
          "base_uri": "https://localhost:8080/",
          "height": 51
        }
      },
      "source": [
        "net = best_model\n",
        "net = net.to(DEVICE) # this will bring the network to GPU if DEVICE is cuda\n",
        "net.train(False) # Set Network to evaluation mode\n",
        "\n",
        "running_corrects = 0\n",
        "for images, labels in tqdm(test_dataloader):\n",
        "  images = images.to(DEVICE)\n",
        "  labels = labels.to(DEVICE)\n",
        "\n",
        "  # Forward Pass\n",
        "  outputs = net(images)\n",
        "\n",
        "  # Get predictions\n",
        "  _, preds = torch.max(outputs.data, 1)\n",
        "\n",
        "  # Update Corrects\n",
        "  running_corrects += torch.sum(preds == labels.data).data.item()\n",
        "\n",
        "# Calculate Accuracy\n",
        "accuracy = running_corrects / float(len(Arts))\n",
        "\n",
        "print('Test Accuracy: {}'.format(accuracy))"
      ],
      "execution_count": 18,
      "outputs": [
        {
          "output_type": "stream",
          "text": [
            "100%|██████████| 8/8 [00:07<00:00,  1.04it/s]"
          ],
          "name": "stderr"
        },
        {
          "output_type": "stream",
          "text": [
            "Test Accuracy: 0.4677734375\n"
          ],
          "name": "stdout"
        },
        {
          "output_type": "stream",
          "text": [
            "\n"
          ],
          "name": "stderr"
        }
      ]
    },
    {
      "cell_type": "code",
      "metadata": {
        "id": "Db5rLisXaBrK",
        "colab_type": "code",
        "colab": {}
      },
      "source": [
        "steps = np.arange(0,len(loss_trend), 1)\n",
        "loss_plot(loss_trend[::10], steps[::10])"
      ],
      "execution_count": 0,
      "outputs": []
    },
    {
      "cell_type": "markdown",
      "metadata": {
        "id": "8XNW2AI-eybZ",
        "colab_type": "text"
      },
      "source": [
        "**DANN**\n",
        "\n",
        "---\n",
        "\n",
        "\n"
      ]
    },
    {
      "cell_type": "markdown",
      "metadata": {
        "id": "SCf38vWHuspP",
        "colab_type": "text"
      },
      "source": [
        "\n",
        "_TRAIN_"
      ]
    },
    {
      "cell_type": "code",
      "metadata": {
        "id": "F1Jpnz1ae0VB",
        "trusted": true,
        "colab_type": "code",
        "colab": {}
      },
      "source": [
        "ALPHA = 0.07\n",
        "# By default, everything is loaded to cpu\n",
        "net = dann_net.to(DEVICE) # this will bring the network to GPU if DEVICE is cuda\n",
        "\n",
        "cudnn.benchmark # Calling this optimizes runtime\n",
        "\n",
        "loss1_trend=[]\n",
        "loss2_trend=[]\n",
        "loss3_trend=[]\n",
        "\n",
        "current_step = 0\n",
        "# Start iterating over the epochs\n",
        "for epoch in range(NUM_EPOCHS):\n",
        "  #print('Starting epoch {}/{}, LR = {}'.format(epoch+1, NUM_EPOCHS, dann_scheduler.get_lr()))\n",
        "\n",
        "  # Iterate over the dataset\n",
        "  for source_image in source_dataloader:\n",
        "    # Bring data over the device of choice\n",
        "\n",
        "    target_image = next(iter(target_dataloader))\n",
        "    source_imgs, source_lbls = source_image\n",
        "    target_imgs, target_lbls = target_image\n",
        "\n",
        "    zeros = torch.zeros(source_lbls.shape, dtype=torch.long)\n",
        "    ones = torch.ones(target_lbls.shape, dtype=torch.long)\n",
        "    \n",
        "    source_imgs = source_imgs.to(DEVICE)\n",
        "    target_imgs = target_imgs.to(DEVICE)\n",
        "    source_lbls = source_lbls.to(DEVICE)\n",
        "    zeros = zeros.to(DEVICE)\n",
        "    ones = ones.to(DEVICE)\n",
        "\n",
        "    net.train() # Sets module in training mode\n",
        "\n",
        "    # PyTorch, by default, accumulates gradients after each backward pass\n",
        "    # We need to manually set the gradients to zero before starting a new iteration\n",
        "    dann_optimizer.zero_grad() # Zero-ing the gradients\n",
        "\n",
        "    outputs = net(source_imgs)\n",
        "    loss_1 = criterion(outputs, source_lbls)\n",
        "    loss_1.backward()\n",
        "\n",
        "    outputs = net(source_imgs, ALPHA)\n",
        "    loss_2 = criterion(outputs, zeros)\n",
        "    loss_2.backward()\n",
        "\n",
        "    outputs = net(target_imgs, ALPHA)\n",
        "    loss_3 = criterion(outputs, ones)\n",
        "    loss_3.backward()\n",
        "\n",
        "    loss1_trend.append(loss_1.item())\n",
        "    loss2_trend.append(loss_2.item())\n",
        "    loss3_trend.append(loss_3.item())\n",
        "\n",
        "    # Log loss\n",
        "    if current_step % LOG_FREQUENCY == 0:\n",
        "      print('Step {}, Loss1 {}, Loss2 {}, Loss3 {}'.format(current_step, loss_1.item(),loss_2.item(),loss_3.item()))\n",
        "    # Compute gradients for each layer and update weights\n",
        "    dann_optimizer.step() # update weights based on accumulated gradients\n",
        "\n",
        "    current_step += 1\n",
        "\n",
        "  # Step the scheduler\n",
        "  dann_scheduler.step()"
      ],
      "execution_count": 0,
      "outputs": []
    },
    {
      "cell_type": "markdown",
      "metadata": {
        "id": "8Yqa6Wnc4yMQ",
        "colab_type": "text"
      },
      "source": [
        "_TEST_\n"
      ]
    },
    {
      "cell_type": "code",
      "metadata": {
        "id": "ywe7HBL_z_wp",
        "trusted": true,
        "colab_type": "code",
        "colab": {}
      },
      "source": [
        "net = net.to(DEVICE) # this will bring the network to GPU if DEVICE is cuda\n",
        "net.train(False) # Set Network to evaluation mode\n",
        "\n",
        "running_corrects = 0\n",
        "for images, labels in test_dataloader:\n",
        "  images = images.to(DEVICE)\n",
        "  labels = labels.to(DEVICE)\n",
        "\n",
        "  # Forward Pass\n",
        "  outputs = net(images)\n",
        "\n",
        "  # Get predictions\n",
        "  _, preds = torch.max(outputs.data, 1)\n",
        "\n",
        "  # Update Corrects\n",
        "  running_corrects += torch.sum(preds == labels.data).data.item()\n",
        "\n",
        "# Calculate Accuracy\n",
        "accuracy = running_corrects / float(len(Arts))\n",
        "\n",
        "print('Test Accuracy: {}'.format(accuracy))"
      ],
      "execution_count": 0,
      "outputs": []
    },
    {
      "cell_type": "markdown",
      "metadata": {
        "id": "fTPRkmYotLBL",
        "colab_type": "text"
      },
      "source": [
        "**XDomain Validation w/o DANN**\n",
        "\n",
        "---\n",
        "\n"
      ]
    },
    {
      "cell_type": "markdown",
      "metadata": {
        "id": "-mPFlH4FtU_P",
        "colab_type": "text"
      },
      "source": [
        "*Search*"
      ]
    },
    {
      "cell_type": "code",
      "metadata": {
        "id": "RmAvccA5tUHh",
        "colab_type": "code",
        "colab": {
          "base_uri": "https://localhost:8080/",
          "height": 1000
        },
        "outputId": "5fb75f55-51d6-4641-d979-2adbfa468abc"
      },
      "source": [
        "NUM_EPOCHS = 10\n",
        "LRs = [0.001, 0.004, 0.01, 0.1]\n",
        "gammas = [0.1, 0.2, 0.5] \n",
        "Bsize = [128, 256]  \n",
        "NUM_EPOCHS = 10\n",
        "best_accuracy = 0\n",
        "best_params = []\n",
        "for BATCH_SIZE in Bsize:\n",
        "  for LR in LRs:\n",
        "    for GAMMA in gammas:\n",
        "      print(f\"Setting up a net with: lr={LR}, batch_size={BATCH_SIZE}, gamma={GAMMA}\\n\")\n",
        "      #Dataloader\n",
        "      source_dataloader = DataLoader(Photos, batch_size=BATCH_SIZE, shuffle=True, num_workers=4, drop_last=True)\n",
        "      validationC_dl = DataLoader(Cartoons, batch_size=BATCH_SIZE, shuffle=True, num_workers=4, drop_last=True)\n",
        "      validationS_dl = DataLoader(Sketches, batch_size=BATCH_SIZE, shuffle=False, num_workers=4)\n",
        "\n",
        "      #Network\n",
        "      alexnet = torchvision.models.alexnet(pretrained = True)\n",
        "      alexnet.classifier[6] = nn.Linear(4096, NUM_CLASSES)\n",
        "      \n",
        "      criterion = nn.CrossEntropyLoss() \n",
        "\n",
        "      parameters_to_optimize = alexnet.parameters() # In this case we optimize over all the parameters of AlexNet\n",
        "      optimizer = optim.SGD(parameters_to_optimize, lr=LR, momentum=MOMENTUM, weight_decay=WEIGHT_DECAY)\n",
        "      scheduler = optim.lr_scheduler.StepLR(optimizer, step_size=STEP_SIZE, gamma=GAMMA)\n",
        "      \n",
        "      net = alexnet.to(DEVICE) # this will bring the network to GPU if DEVICE is cuda\n",
        "      cudnn.benchmark # Calling this optimizes runtime\n",
        "\n",
        "      current_step = 0\n",
        "      loss_trend = []\n",
        "      # Start iterating over the epochs\n",
        "      for epoch in range(NUM_EPOCHS):\n",
        "\n",
        "        # Iterate over the dataset\n",
        "        for images, labels in source_dataloader:\n",
        "          # Bring data over the device of choice\n",
        "          images = images.to(DEVICE)\n",
        "          labels = labels.to(DEVICE)\n",
        "\n",
        "          net.train() # Sets module in training mode\n",
        "\n",
        "          # PyTorch, by default, accumulates gradients after each backward pass\n",
        "          # We need to manually set the gradients to zero before starting a new iteration\n",
        "          optimizer.zero_grad() # Zero-ing the gradients\n",
        "\n",
        "          # Forward pass to the network\n",
        "          outputs = net(images)\n",
        "\n",
        "          # Compute loss based on output and ground truth\n",
        "          loss = criterion(outputs, labels)\n",
        "          loss_trend.append(loss.item())\n",
        "\n",
        "          # Log loss\n",
        "          if current_step % LOG_FREQUENCY == 0:\n",
        "            print('Step {}, Loss {}'.format(current_step, loss.item()))\n",
        "\n",
        "          # Compute gradients for each layer and update weights\n",
        "          loss.backward()  # backward pass: computes gradients\n",
        "          optimizer.step() # update weights based on accumulated gradients\n",
        "\n",
        "          current_step += 1\n",
        "\n",
        "        # Step the scheduler\n",
        "        scheduler.step()\n",
        "      \n",
        "      ##FIRST VALIDATION\n",
        "      net = net.to(DEVICE) # this will bring the network to GPU if DEVICE is cuda\n",
        "      net.train(False) # Set Network to evaluation mode\n",
        "\n",
        "      running_corrects = 0\n",
        "      for images, labels in validationC_dl:\n",
        "        images = images.to(DEVICE)\n",
        "        labels = labels.to(DEVICE)\n",
        "\n",
        "        # Forward Pass\n",
        "        outputs = net(images)\n",
        "\n",
        "        # Get predictions\n",
        "        _, preds = torch.max(outputs.data, 1)\n",
        "\n",
        "        # Update Corrects\n",
        "        running_corrects += torch.sum(preds == labels.data).data.item()\n",
        "\n",
        "      # Calculate Accuracy\n",
        "      accuracy_cartoons = running_corrects / float(len(Arts))\n",
        "\n",
        "      print('Test Accuracy: {}'.format(accuracy_cartoons))\n",
        "\n",
        "      ##SECOND VALIDATION\n",
        "      net = net.to(DEVICE) # this will bring the network to GPU if DEVICE is cuda\n",
        "      net.train(False) # Set Network to evaluation mode\n",
        "\n",
        "      running_corrects = 0\n",
        "      for images, labels in validationS_dl:\n",
        "        images = images.to(DEVICE)\n",
        "        labels = labels.to(DEVICE)\n",
        "\n",
        "        # Forward Pass\n",
        "        outputs = net(images)\n",
        "\n",
        "        # Get predictions\n",
        "        _, preds = torch.max(outputs.data, 1)\n",
        "\n",
        "        # Update Corrects\n",
        "        running_corrects += torch.sum(preds == labels.data).data.item()\n",
        "\n",
        "      # Calculate Accuracy\n",
        "      accuracy_sketches = running_corrects / float(len(Arts))\n",
        "\n",
        "      print('Test Accuracy: {}'.format(accuracy_sketches))\n",
        "\n",
        "      accuracy_avg = (accuracy_sketches + accuracy_cartoons)/2\n",
        "      if best_accuracy < accuracy_avg:\n",
        "        best_accuracy = accuracy_avg\n",
        "        #STORE PARAMS IF THE MODEL PERFORMS BETTER\n",
        "        best_params = [LR,BATCH_SIZE, GAMMA]\n",
        "      print('\\nTest Accuracy Average: {}'.format(accuracy_avg))"
      ],
      "execution_count": 6,
      "outputs": [
        {
          "output_type": "stream",
          "text": [
            "Setting up a net with: lr=0.001, batch_size=128, gamma=0.1\n",
            "\n",
            "Step 0, Loss 2.1913905143737793\n",
            "Step 10, Loss 0.34111711382865906\n",
            "Step 20, Loss 0.15444082021713257\n",
            "Step 30, Loss 0.08470331877470016\n",
            "Step 40, Loss 0.061749715358018875\n",
            "Step 50, Loss 0.05945584550499916\n",
            "Step 60, Loss 0.05953269824385643\n",
            "Step 70, Loss 0.02696956694126129\n",
            "Step 80, Loss 0.02858065813779831\n",
            "Step 90, Loss 0.030869388952851295\n",
            "Step 100, Loss 0.014931928366422653\n",
            "Step 110, Loss 0.023088790476322174\n",
            "Step 120, Loss 0.018871083855628967\n",
            "Test Accuracy: 0.2802734375\n",
            "Test Accuracy: 0.4296875\n",
            "\n",
            "Test Accuracy Average: 0.35498046875\n",
            "Setting up a net with: lr=0.001, batch_size=128, gamma=0.2\n",
            "\n",
            "Step 0, Loss 1.9041361808776855\n",
            "Step 10, Loss 0.38652560114860535\n",
            "Step 20, Loss 0.16126537322998047\n",
            "Step 30, Loss 0.1113748624920845\n",
            "Step 40, Loss 0.04992368444800377\n",
            "Step 50, Loss 0.05850503221154213\n",
            "Step 60, Loss 0.043555960059165955\n",
            "Step 70, Loss 0.03997090086340904\n",
            "Step 80, Loss 0.046908900141716\n",
            "Step 90, Loss 0.02388119325041771\n",
            "Step 100, Loss 0.03520331531763077\n",
            "Step 110, Loss 0.02178485505282879\n",
            "Step 120, Loss 0.045412201434373856\n",
            "Test Accuracy: 0.25927734375\n",
            "Test Accuracy: 0.40576171875\n",
            "\n",
            "Test Accuracy Average: 0.33251953125\n",
            "Setting up a net with: lr=0.001, batch_size=128, gamma=0.5\n",
            "\n",
            "Step 0, Loss 2.07678484916687\n",
            "Step 10, Loss 0.4408811330795288\n",
            "Step 20, Loss 0.12656082212924957\n",
            "Step 30, Loss 0.1336781531572342\n",
            "Step 40, Loss 0.08153465390205383\n",
            "Step 50, Loss 0.038084737956523895\n",
            "Step 60, Loss 0.03800174593925476\n",
            "Step 70, Loss 0.05200968682765961\n",
            "Step 80, Loss 0.03699425607919693\n",
            "Step 90, Loss 0.045004963874816895\n",
            "Step 100, Loss 0.02730967104434967\n",
            "Step 110, Loss 0.014109691604971886\n",
            "Step 120, Loss 0.012903023511171341\n",
            "Test Accuracy: 0.26953125\n",
            "Test Accuracy: 0.45849609375\n",
            "\n",
            "Test Accuracy Average: 0.364013671875\n",
            "Setting up a net with: lr=0.004, batch_size=128, gamma=0.1\n",
            "\n",
            "Step 0, Loss 1.9627219438552856\n",
            "Step 10, Loss 0.253335565328598\n",
            "Step 20, Loss 0.14991307258605957\n",
            "Step 30, Loss 0.04891706630587578\n",
            "Step 40, Loss 0.030856231227517128\n",
            "Step 50, Loss 0.029529143124818802\n",
            "Step 60, Loss 0.023899955675005913\n",
            "Step 70, Loss 0.01431616023182869\n",
            "Step 80, Loss 0.008165474981069565\n",
            "Step 90, Loss 0.0032343491911888123\n",
            "Step 100, Loss 0.007410008460283279\n",
            "Step 110, Loss 0.0006554499268531799\n",
            "Step 120, Loss 0.0010132566094398499\n",
            "Test Accuracy: 0.27001953125\n",
            "Test Accuracy: 0.54150390625\n",
            "\n",
            "Test Accuracy Average: 0.40576171875\n",
            "Setting up a net with: lr=0.004, batch_size=128, gamma=0.2\n",
            "\n",
            "Step 0, Loss 2.49113392829895\n",
            "Step 10, Loss 0.21146230399608612\n",
            "Step 20, Loss 0.1104833334684372\n",
            "Step 30, Loss 0.038109999150037766\n",
            "Step 40, Loss 0.003238525241613388\n",
            "Step 50, Loss 0.018438782542943954\n",
            "Step 60, Loss 0.023797566071152687\n",
            "Step 70, Loss 0.03135053068399429\n",
            "Step 80, Loss 0.0066252201795578\n",
            "Step 90, Loss 0.01590855047106743\n",
            "Step 100, Loss 0.006758254021406174\n",
            "Step 110, Loss 0.00571819394826889\n",
            "Step 120, Loss 0.0015378333628177643\n",
            "Test Accuracy: 0.33349609375\n",
            "Test Accuracy: 0.58203125\n",
            "\n",
            "Test Accuracy Average: 0.457763671875\n",
            "Setting up a net with: lr=0.004, batch_size=128, gamma=0.5\n",
            "\n",
            "Step 0, Loss 1.946705937385559\n",
            "Step 10, Loss 0.07194504141807556\n",
            "Step 20, Loss 0.149117574095726\n",
            "Step 30, Loss 0.09637026488780975\n",
            "Step 40, Loss 0.049240387976169586\n",
            "Step 50, Loss 0.020243730396032333\n",
            "Step 60, Loss 0.011306345462799072\n",
            "Step 70, Loss 0.002885080873966217\n",
            "Step 80, Loss 0.004508078098297119\n",
            "Step 90, Loss 0.006258919835090637\n",
            "Step 100, Loss 0.002781115472316742\n",
            "Step 110, Loss 0.0011257976293563843\n",
            "Step 120, Loss 0.02306264452636242\n",
            "Test Accuracy: 0.32373046875\n",
            "Test Accuracy: 0.7216796875\n",
            "\n",
            "Test Accuracy Average: 0.522705078125\n",
            "Setting up a net with: lr=0.01, batch_size=128, gamma=0.1\n",
            "\n",
            "Step 0, Loss 2.2871177196502686\n",
            "Step 10, Loss 0.15741857886314392\n",
            "Step 20, Loss 0.18672910332679749\n",
            "Step 30, Loss 0.08871152997016907\n",
            "Step 40, Loss 0.14953528344631195\n",
            "Step 50, Loss 0.08484280109405518\n",
            "Step 60, Loss 0.024003878235816956\n",
            "Step 70, Loss 0.09366266429424286\n",
            "Step 80, Loss 0.029527761042118073\n",
            "Step 90, Loss 0.029679743573069572\n",
            "Step 100, Loss 0.0100308358669281\n",
            "Step 110, Loss 0.004028830677270889\n",
            "Step 120, Loss 0.0019148066639900208\n",
            "Test Accuracy: 0.2919921875\n",
            "Test Accuracy: 0.5888671875\n",
            "\n",
            "Test Accuracy Average: 0.4404296875\n",
            "Setting up a net with: lr=0.01, batch_size=128, gamma=0.2\n",
            "\n",
            "Step 0, Loss 1.982391357421875\n",
            "Step 10, Loss 0.2501998543739319\n",
            "Step 20, Loss 0.1583668738603592\n",
            "Step 30, Loss 0.05873805657029152\n",
            "Step 40, Loss 0.07062851637601852\n",
            "Step 50, Loss 0.10265374928712845\n",
            "Step 60, Loss 0.019343383610248566\n",
            "Step 70, Loss 0.013784468173980713\n",
            "Step 80, Loss 0.10995441675186157\n",
            "Step 90, Loss 0.0026964321732521057\n",
            "Step 100, Loss 0.008979056030511856\n",
            "Step 110, Loss 0.018911119550466537\n",
            "Step 120, Loss 0.011557897552847862\n",
            "Test Accuracy: 0.2451171875\n",
            "Test Accuracy: 0.5419921875\n",
            "\n",
            "Test Accuracy Average: 0.3935546875\n",
            "Setting up a net with: lr=0.01, batch_size=128, gamma=0.5\n",
            "\n",
            "Step 0, Loss 2.0937693119049072\n",
            "Step 10, Loss 0.18944503366947174\n",
            "Step 20, Loss 0.17120669782161713\n",
            "Step 30, Loss 0.1253148913383484\n",
            "Step 40, Loss 0.04377804324030876\n",
            "Step 50, Loss 0.06628972291946411\n",
            "Step 60, Loss 0.04011811316013336\n",
            "Step 70, Loss 0.02869284525513649\n",
            "Step 80, Loss 0.0005605220794677734\n",
            "Step 90, Loss 0.003952831029891968\n",
            "Step 100, Loss 0.002075009047985077\n",
            "Step 110, Loss 0.00035690516233444214\n",
            "Step 120, Loss 0.0075300708413124084\n",
            "Test Accuracy: 0.248046875\n",
            "Test Accuracy: 0.5078125\n",
            "\n",
            "Test Accuracy Average: 0.3779296875\n",
            "Setting up a net with: lr=0.1, batch_size=128, gamma=0.1\n",
            "\n",
            "Step 0, Loss 2.409252166748047\n",
            "Step 10, Loss nan\n",
            "Step 20, Loss nan\n",
            "Step 30, Loss nan\n",
            "Step 40, Loss nan\n",
            "Step 50, Loss nan\n",
            "Step 60, Loss nan\n",
            "Step 70, Loss nan\n",
            "Step 80, Loss nan\n",
            "Step 90, Loss nan\n",
            "Step 100, Loss nan\n",
            "Step 110, Loss nan\n",
            "Step 120, Loss nan\n",
            "Test Accuracy: 0.18505859375\n",
            "Test Accuracy: 0.376953125\n",
            "\n",
            "Test Accuracy Average: 0.281005859375\n",
            "Setting up a net with: lr=0.1, batch_size=128, gamma=0.2\n",
            "\n",
            "Step 0, Loss 2.0719401836395264\n",
            "Step 10, Loss nan\n",
            "Step 20, Loss nan\n",
            "Step 30, Loss nan\n",
            "Step 40, Loss nan\n",
            "Step 50, Loss nan\n",
            "Step 60, Loss nan\n",
            "Step 70, Loss nan\n",
            "Step 80, Loss nan\n",
            "Step 90, Loss nan\n",
            "Step 100, Loss nan\n",
            "Step 110, Loss nan\n",
            "Step 120, Loss nan\n",
            "Test Accuracy: 0.18701171875\n",
            "Test Accuracy: 0.376953125\n",
            "\n",
            "Test Accuracy Average: 0.281982421875\n",
            "Setting up a net with: lr=0.1, batch_size=128, gamma=0.5\n",
            "\n",
            "Step 0, Loss 1.9973046779632568\n",
            "Step 10, Loss nan\n",
            "Step 20, Loss nan\n",
            "Step 30, Loss nan\n",
            "Step 40, Loss nan\n",
            "Step 50, Loss nan\n",
            "Step 60, Loss nan\n",
            "Step 70, Loss nan\n",
            "Step 80, Loss nan\n",
            "Step 90, Loss nan\n",
            "Step 100, Loss nan\n",
            "Step 110, Loss nan\n",
            "Step 120, Loss nan\n",
            "Test Accuracy: 0.18798828125\n",
            "Test Accuracy: 0.376953125\n",
            "\n",
            "Test Accuracy Average: 0.282470703125\n",
            "Setting up a net with: lr=1, batch_size=128, gamma=0.1\n",
            "\n",
            "Step 0, Loss 1.737440586090088\n",
            "Step 10, Loss nan\n",
            "Step 20, Loss nan\n",
            "Step 30, Loss nan\n",
            "Step 40, Loss nan\n",
            "Step 50, Loss nan\n",
            "Step 60, Loss nan\n",
            "Step 70, Loss nan\n",
            "Step 80, Loss nan\n",
            "Step 90, Loss nan\n",
            "Step 100, Loss nan\n",
            "Step 110, Loss nan\n",
            "Step 120, Loss nan\n",
            "Test Accuracy: 0.18798828125\n",
            "Test Accuracy: 0.376953125\n",
            "\n",
            "Test Accuracy Average: 0.282470703125\n",
            "Setting up a net with: lr=1, batch_size=128, gamma=0.2\n",
            "\n",
            "Step 0, Loss 2.120365858078003\n",
            "Step 10, Loss nan\n",
            "Step 20, Loss nan\n",
            "Step 30, Loss nan\n",
            "Step 40, Loss nan\n",
            "Step 50, Loss nan\n",
            "Step 60, Loss nan\n",
            "Step 70, Loss nan\n",
            "Step 80, Loss nan\n",
            "Step 90, Loss nan\n",
            "Step 100, Loss nan\n",
            "Step 110, Loss nan\n",
            "Step 120, Loss nan\n",
            "Test Accuracy: 0.18798828125\n",
            "Test Accuracy: 0.376953125\n",
            "\n",
            "Test Accuracy Average: 0.282470703125\n",
            "Setting up a net with: lr=1, batch_size=128, gamma=0.5\n",
            "\n",
            "Step 0, Loss 1.8222851753234863\n",
            "Step 10, Loss nan\n",
            "Step 20, Loss nan\n",
            "Step 30, Loss nan\n",
            "Step 40, Loss nan\n",
            "Step 50, Loss nan\n",
            "Step 60, Loss nan\n",
            "Step 70, Loss nan\n",
            "Step 80, Loss nan\n",
            "Step 90, Loss nan\n",
            "Step 100, Loss nan\n",
            "Step 110, Loss nan\n",
            "Step 120, Loss nan\n",
            "Test Accuracy: 0.1875\n",
            "Test Accuracy: 0.376953125\n",
            "\n",
            "Test Accuracy Average: 0.2822265625\n",
            "Setting up a net with: lr=0.001, batch_size=256, gamma=0.1\n",
            "\n",
            "Step 0, Loss 2.1713690757751465\n",
            "Step 10, Loss 0.36196959018707275\n",
            "Step 20, Loss 0.1534366011619568\n",
            "Step 30, Loss 0.0754953995347023\n",
            "Step 40, Loss 0.10382363200187683\n",
            "Step 50, Loss 0.06449060142040253\n",
            "Test Accuracy: 0.24609375\n",
            "Test Accuracy: 0.3828125\n",
            "\n",
            "Test Accuracy Average: 0.314453125\n",
            "Setting up a net with: lr=0.001, batch_size=256, gamma=0.2\n",
            "\n",
            "Step 0, Loss 2.2612948417663574\n",
            "Step 10, Loss 0.3959578275680542\n",
            "Step 20, Loss 0.12411898374557495\n",
            "Step 30, Loss 0.09189559519290924\n",
            "Step 40, Loss 0.07017115503549576\n",
            "Step 50, Loss 0.046452783048152924\n",
            "Test Accuracy: 0.236328125\n",
            "Test Accuracy: 0.33349609375\n",
            "\n",
            "Test Accuracy Average: 0.284912109375\n",
            "Setting up a net with: lr=0.001, batch_size=256, gamma=0.5\n",
            "\n",
            "Step 0, Loss 1.8847992420196533\n",
            "Step 10, Loss 0.3027128279209137\n",
            "Step 20, Loss 0.13148903846740723\n",
            "Step 30, Loss 0.08876852691173553\n",
            "Step 40, Loss 0.08898748457431793\n",
            "Step 50, Loss 0.054250139743089676\n",
            "Test Accuracy: 0.24560546875\n",
            "Test Accuracy: 0.5244140625\n",
            "\n",
            "Test Accuracy Average: 0.385009765625\n",
            "Setting up a net with: lr=0.004, batch_size=256, gamma=0.1\n",
            "\n",
            "Step 0, Loss 2.1405887603759766\n",
            "Step 10, Loss 0.14200051128864288\n",
            "Step 20, Loss 0.0659448504447937\n",
            "Step 30, Loss 0.013013139367103577\n",
            "Step 40, Loss 0.011132385581731796\n",
            "Step 50, Loss 0.017646029591560364\n",
            "Test Accuracy: 0.3466796875\n",
            "Test Accuracy: 0.576171875\n",
            "\n",
            "Test Accuracy Average: 0.46142578125\n",
            "Setting up a net with: lr=0.004, batch_size=256, gamma=0.2\n",
            "\n",
            "Step 0, Loss 2.0521154403686523\n",
            "Step 10, Loss 0.13616399466991425\n",
            "Step 20, Loss 0.0725628063082695\n",
            "Step 30, Loss 0.04212551191449165\n",
            "Step 40, Loss 0.022949449717998505\n",
            "Step 50, Loss 0.007861875928938389\n",
            "Test Accuracy: 0.29931640625\n",
            "Test Accuracy: 0.5888671875\n",
            "\n",
            "Test Accuracy Average: 0.444091796875\n",
            "Setting up a net with: lr=0.004, batch_size=256, gamma=0.5\n",
            "\n",
            "Step 0, Loss 2.0333428382873535\n",
            "Step 10, Loss 0.13632500171661377\n",
            "Step 20, Loss 0.10311073809862137\n",
            "Step 30, Loss 0.023573825135827065\n",
            "Step 40, Loss 0.028636647388339043\n",
            "Step 50, Loss 0.01948266103863716\n",
            "Test Accuracy: 0.31640625\n",
            "Test Accuracy: 0.5849609375\n",
            "\n",
            "Test Accuracy Average: 0.45068359375\n",
            "Setting up a net with: lr=0.01, batch_size=256, gamma=0.1\n",
            "\n",
            "Step 0, Loss 2.049706220626831\n",
            "Step 10, Loss 0.15827828645706177\n",
            "Step 20, Loss 0.04562913626432419\n",
            "Step 30, Loss 0.01823829486966133\n",
            "Step 40, Loss 0.013032205402851105\n",
            "Step 50, Loss 0.01690802350640297\n",
            "Test Accuracy: 0.30908203125\n",
            "Test Accuracy: 0.61181640625\n",
            "\n",
            "Test Accuracy Average: 0.46044921875\n",
            "Setting up a net with: lr=0.01, batch_size=256, gamma=0.2\n",
            "\n",
            "Step 0, Loss 2.077420234680176\n",
            "Step 10, Loss 0.14837180078029633\n",
            "Step 20, Loss 0.06819280982017517\n",
            "Step 30, Loss 0.0620991587638855\n",
            "Step 40, Loss 0.01059487834572792\n",
            "Step 50, Loss 0.0025540851056575775\n",
            "Test Accuracy: 0.3154296875\n",
            "Test Accuracy: 0.52197265625\n",
            "\n",
            "Test Accuracy Average: 0.418701171875\n",
            "Setting up a net with: lr=0.01, batch_size=256, gamma=0.5\n",
            "\n",
            "Step 0, Loss 2.0011188983917236\n",
            "Step 10, Loss 0.06705890595912933\n",
            "Step 20, Loss 0.06347150355577469\n",
            "Step 30, Loss 0.06597605347633362\n",
            "Step 40, Loss 0.010686347261071205\n",
            "Step 50, Loss 0.0023565292358398438\n",
            "Test Accuracy: 0.35888671875\n",
            "Test Accuracy: 0.60205078125\n",
            "\n",
            "Test Accuracy Average: 0.48046875\n",
            "Setting up a net with: lr=0.1, batch_size=256, gamma=0.1\n",
            "\n",
            "Step 0, Loss 2.0786094665527344\n",
            "Step 10, Loss nan\n",
            "Step 20, Loss nan\n",
            "Step 30, Loss nan\n",
            "Step 40, Loss nan\n",
            "Step 50, Loss nan\n",
            "Test Accuracy: 0.18701171875\n",
            "Test Accuracy: 0.376953125\n",
            "\n",
            "Test Accuracy Average: 0.281982421875\n",
            "Setting up a net with: lr=0.1, batch_size=256, gamma=0.2\n",
            "\n",
            "Step 0, Loss 2.281393527984619\n",
            "Step 10, Loss nan\n",
            "Step 20, Loss nan\n",
            "Step 30, Loss nan\n",
            "Step 40, Loss nan\n",
            "Step 50, Loss nan\n",
            "Test Accuracy: 0.1865234375\n",
            "Test Accuracy: 0.376953125\n",
            "\n",
            "Test Accuracy Average: 0.28173828125\n",
            "Setting up a net with: lr=0.1, batch_size=256, gamma=0.5\n",
            "\n",
            "Step 0, Loss 2.466238021850586\n",
            "Step 10, Loss nan\n",
            "Step 20, Loss nan\n",
            "Step 30, Loss nan\n",
            "Step 40, Loss nan\n",
            "Step 50, Loss nan\n",
            "Test Accuracy: 0.1875\n",
            "Test Accuracy: 0.376953125\n",
            "\n",
            "Test Accuracy Average: 0.2822265625\n",
            "Setting up a net with: lr=1, batch_size=256, gamma=0.1\n",
            "\n",
            "Step 0, Loss 2.075641393661499\n",
            "Step 10, Loss nan\n",
            "Step 20, Loss nan\n",
            "Step 30, Loss nan\n",
            "Step 40, Loss nan\n",
            "Step 50, Loss nan\n",
            "Test Accuracy: 0.18701171875\n",
            "Test Accuracy: 0.376953125\n",
            "\n",
            "Test Accuracy Average: 0.281982421875\n",
            "Setting up a net with: lr=1, batch_size=256, gamma=0.2\n",
            "\n",
            "Step 0, Loss 2.0954372882843018\n",
            "Step 10, Loss nan\n",
            "Step 20, Loss nan\n",
            "Step 30, Loss nan\n",
            "Step 40, Loss nan\n",
            "Step 50, Loss nan\n",
            "Test Accuracy: 0.18701171875\n",
            "Test Accuracy: 0.376953125\n",
            "\n",
            "Test Accuracy Average: 0.281982421875\n",
            "Setting up a net with: lr=1, batch_size=256, gamma=0.5\n",
            "\n",
            "Step 0, Loss 2.1006195545196533\n",
            "Step 10, Loss nan\n",
            "Step 20, Loss nan\n",
            "Step 30, Loss nan\n",
            "Step 40, Loss nan\n",
            "Step 50, Loss nan\n",
            "Test Accuracy: 0.18701171875\n",
            "Test Accuracy: 0.376953125\n",
            "\n",
            "Test Accuracy Average: 0.281982421875\n"
          ],
          "name": "stdout"
        }
      ]
    },
    {
      "cell_type": "code",
      "metadata": {
        "id": "zzku6XUuxXSj",
        "colab_type": "code",
        "colab": {
          "base_uri": "https://localhost:8080/",
          "height": 34
        },
        "outputId": "0daeed82-8935-479b-e63e-956a1c0997c3"
      },
      "source": [
        "print(best_params)"
      ],
      "execution_count": 7,
      "outputs": [
        {
          "output_type": "stream",
          "text": [
            "[0.004, 128, 0.5]\n"
          ],
          "name": "stdout"
        }
      ]
    },
    {
      "cell_type": "markdown",
      "metadata": {
        "colab_type": "text",
        "id": "MJ9s2ts-04wV"
      },
      "source": [
        "AlexNet with best params\n",
        "\n",
        "\n",
        "\n"
      ]
    },
    {
      "cell_type": "markdown",
      "metadata": {
        "colab_type": "text",
        "id": "MmT-oC5_04wX"
      },
      "source": [
        "_TRAIN_"
      ]
    },
    {
      "cell_type": "code",
      "metadata": {
        "trusted": true,
        "colab_type": "code",
        "id": "hhG5oh4T04wY",
        "colab": {
          "base_uri": "https://localhost:8080/",
          "height": 680
        },
        "outputId": "27409e75-ecdd-4ef0-eb3a-4a80b8695a8d"
      },
      "source": [
        "NUM_EPOCHS = 30\n",
        "best_params=[0.004, 128, 0.5]\n",
        "best_loss = 1000\n",
        "source_dataloader = DataLoader(Photos, batch_size=best_params[1], shuffle=True, num_workers=4, drop_last=True)\n",
        "target_dataloader = DataLoader(Arts, batch_size=best_params[1], shuffle=True, num_workers=4, drop_last=True)\n",
        "test_dataloader = DataLoader(Arts, batch_size=best_params[1], shuffle=False, num_workers=4)\n",
        "# By default, everything is loaded to cpu\n",
        "#Network\n",
        "alexnet = torchvision.models.alexnet(pretrained = True)\n",
        "alexnet.classifier[6] = nn.Linear(4096, NUM_CLASSES)\n",
        "\n",
        "criterion = nn.CrossEntropyLoss() \n",
        "\n",
        "parameters_to_optimize = alexnet.parameters() # In this case we optimize over all the parameters of AlexNet\n",
        "optimizer = optim.SGD(parameters_to_optimize, lr=best_params[0], momentum=MOMENTUM, weight_decay=WEIGHT_DECAY)\n",
        "scheduler = optim.lr_scheduler.StepLR(optimizer, step_size=STEP_SIZE, gamma=best_params[2])\n",
        "\n",
        "net = alexnet.to(DEVICE) # this will bring the network to GPU if DEVICE is cuda\n",
        "cudnn.benchmark # Calling this optimizes runtime\n",
        "\n",
        "\n",
        "current_step = 0\n",
        "loss_trend = []\n",
        "# Start iterating over the epochs\n",
        "for epoch in range(NUM_EPOCHS):\n",
        "  #print('Starting epoch {}/{}, LR = {}'.format(epoch+1, NUM_EPOCHS, scheduler.get_lr()))\n",
        "\n",
        "  # Iterate over the dataset\n",
        "  for images, labels in source_dataloader:\n",
        "    # Bring data over the device of choice\n",
        "    images = images.to(DEVICE)\n",
        "    labels = labels.to(DEVICE)\n",
        "\n",
        "    net.train() # Sets module in training mode\n",
        "\n",
        "    # PyTorch, by default, accumulates gradients after each backward pass\n",
        "    # We need to manually set the gradients to zero before starting a new iteration\n",
        "    optimizer.zero_grad() # Zero-ing the gradients\n",
        "\n",
        "    # Forward pass to the network\n",
        "    outputs = net(images)\n",
        "\n",
        "    # Compute loss based on output and ground truth\n",
        "    loss = criterion(outputs, labels)\n",
        "    loss_trend.append(loss.item())\n",
        "\n",
        "    # Log loss\n",
        "    if current_step % LOG_FREQUENCY == 0:\n",
        "      print('Step {}, Loss {}'.format(current_step, loss.item()))\n",
        "\n",
        "    # Compute gradients for each layer and update weights\n",
        "    loss.backward()  # backward pass: computes gradients\n",
        "    optimizer.step() # update weights based on accumulated gradients\n",
        "\n",
        "    if loss < best_loss:\n",
        "      best_loss = loss\n",
        "      best_model = copy.deepcopy(net)\n",
        "\n",
        "    current_step += 1\n",
        "\n",
        "  # Step the scheduler\n",
        "  scheduler.step() "
      ],
      "execution_count": 19,
      "outputs": [
        {
          "output_type": "stream",
          "text": [
            "Step 0, Loss 1.9706894159317017\n",
            "Step 10, Loss 0.12015494704246521\n",
            "Step 20, Loss 0.15589918196201324\n",
            "Step 30, Loss 0.042388059198856354\n",
            "Step 40, Loss 0.01921309530735016\n",
            "Step 50, Loss 0.015092417597770691\n",
            "Step 60, Loss 0.03016454353928566\n",
            "Step 70, Loss 0.007055085152387619\n",
            "Step 80, Loss 0.0028069689869880676\n",
            "Step 90, Loss 0.00388224795460701\n",
            "Step 100, Loss 0.0019512549042701721\n",
            "Step 110, Loss 0.007949154824018478\n",
            "Step 120, Loss 0.0028002895414829254\n",
            "Step 130, Loss 0.005556691437959671\n",
            "Step 140, Loss 0.0032523907721042633\n",
            "Step 150, Loss 0.00036605820059776306\n",
            "Step 160, Loss 0.0022703222930431366\n",
            "Step 170, Loss 0.000571034848690033\n",
            "Step 180, Loss 0.0008202977478504181\n",
            "Step 190, Loss 0.0018351972103118896\n",
            "Step 200, Loss 0.000860169529914856\n",
            "Step 210, Loss 0.0008673444390296936\n",
            "Step 220, Loss 0.0002876967191696167\n",
            "Step 230, Loss 0.00016719847917556763\n",
            "Step 240, Loss 0.0004931241273880005\n",
            "Step 250, Loss 0.0005472153425216675\n",
            "Step 260, Loss 0.0027416273951530457\n",
            "Step 270, Loss 0.0004430823028087616\n",
            "Step 280, Loss 0.00019407272338867188\n",
            "Step 290, Loss 0.00010573118925094604\n",
            "Step 300, Loss 0.0001463182270526886\n",
            "Step 310, Loss 0.0008300840854644775\n",
            "Step 320, Loss 0.000643216073513031\n",
            "Step 330, Loss 0.0002957582473754883\n",
            "Step 340, Loss 0.00021889060735702515\n",
            "Step 350, Loss 0.00017832964658737183\n",
            "Step 360, Loss 0.0004951208829879761\n",
            "Step 370, Loss 0.00023137032985687256\n",
            "Step 380, Loss 0.00021836906671524048\n"
          ],
          "name": "stdout"
        }
      ]
    },
    {
      "cell_type": "markdown",
      "metadata": {
        "colab_type": "text",
        "id": "uKZznB0i04wb"
      },
      "source": [
        "_TEST_"
      ]
    },
    {
      "cell_type": "code",
      "metadata": {
        "trusted": true,
        "colab_type": "code",
        "id": "PVTZawsf04wb",
        "colab": {
          "base_uri": "https://localhost:8080/",
          "height": 51
        },
        "outputId": "85f77f5b-bb32-42af-df38-be15c4bfd0ab"
      },
      "source": [
        "net = best_model\n",
        "net = net.to(DEVICE) # this will bring the network to GPU if DEVICE is cuda\n",
        "net.train(False) # Set Network to evaluation mode\n",
        "\n",
        "running_corrects = 0\n",
        "for images, labels in tqdm(test_dataloader):\n",
        "  images = images.to(DEVICE)\n",
        "  labels = labels.to(DEVICE)\n",
        "\n",
        "  # Forward Pass\n",
        "  outputs = net(images)\n",
        "\n",
        "  # Get predictions\n",
        "  _, preds = torch.max(outputs.data, 1)\n",
        "\n",
        "  # Update Corrects\n",
        "  running_corrects += torch.sum(preds == labels.data).data.item()\n",
        "\n",
        "# Calculate Accuracy\n",
        "accuracy = running_corrects / float(len(Arts))\n",
        "\n",
        "print('Test Accuracy: {}'.format(accuracy))"
      ],
      "execution_count": 20,
      "outputs": [
        {
          "output_type": "stream",
          "text": [
            "100%|██████████| 16/16 [00:07<00:00,  2.09it/s]"
          ],
          "name": "stderr"
        },
        {
          "output_type": "stream",
          "text": [
            "Test Accuracy: 0.5078125\n"
          ],
          "name": "stdout"
        },
        {
          "output_type": "stream",
          "text": [
            "\n"
          ],
          "name": "stderr"
        }
      ]
    },
    {
      "cell_type": "markdown",
      "metadata": {
        "id": "leyYedLqH3cN",
        "colab_type": "text"
      },
      "source": [
        "**XDomain Validation w DANN**\n",
        "\n"
      ]
    },
    {
      "cell_type": "markdown",
      "metadata": {
        "id": "Ke0gJsEoxxvB",
        "colab_type": "text"
      },
      "source": [
        "*Search*\n"
      ]
    },
    {
      "cell_type": "code",
      "metadata": {
        "id": "5IzpCx4GH7gK",
        "trusted": true,
        "colab_type": "code",
        "colab": {}
      },
      "source": [
        "# ALPHAs = [0.01, 0.04, 0.07, 0.09, 0.1]\n",
        "# LRs = [0.001, 0.004, 0.01, 0.04, .1]\n",
        "# Bsize = [128, 256]  \n",
        "# NUM_EPOCHS = 10\n",
        "# best_accuracy = 0\n",
        "# best_params = []\n",
        "# # By default, everything is loaded to cpu\n",
        "\n",
        "# for BATCH_SIZE in Bsize::\n",
        "#   for ALPHA in ALPHAs:\n",
        "#     for LR in LRs:\n",
        "#       print(f\"Setting up a net with: lr={LR}, batch_size={BATCH_SIZE}, alpha={ALPHA}\\n\")\n",
        "\n",
        "#       source_dataloader = DataLoader(Photos, batch_size=BATCH_SIZE, shuffle=True, num_workers=4, drop_last=True)\n",
        "#       target_dataloader = DataLoader(Cartoons, batch_size=BATCH_SIZE, shuffle=True, num_workers=4, drop_last=True)\n",
        "#       test_dataloader = DataLoader(Cartoons, batch_size=BATCH_SIZE, shuffle=False, num_workers=4)\n",
        "\n",
        "      \n",
        "      \n",
        "#       #SETTING UP NET\n",
        "#       dann_net = dann(pretrained = True)\n",
        "#       dann_net.classifier[6] = nn.Linear(4096, NUM_CLASSES)\n",
        "#       criterion = nn.CrossEntropyLoss() # for classification, we use Cross Entropy\n",
        "#       dann_parameters_to_optimize = dann_net.parameters()\n",
        "#       dann_optimizer = optim.SGD(dann_parameters_to_optimize, lr=LR, momentum=MOMENTUM, weight_decay=WEIGHT_DECAY)\n",
        "#       dann_scheduler = optim.lr_scheduler.StepLR(dann_optimizer, step_size=STEP_SIZE, gamma=GAMMA)\n",
        "\n",
        "#       net = dann_net.to(DEVICE) # this will bring the network to GPU if DEVICE is cuda\n",
        "\n",
        "#       cudnn.benchmark # Calling this optimizes runtime\n",
        "\n",
        "#       current_step = 0\n",
        "#       # Start iterating over the epochs\n",
        "#       for epoch in range(NUM_EPOCHS):\n",
        "#         #print('Starting epoch {}/{}, LR = {}'.format(epoch+1, NUM_EPOCHS, dann_scheduler.get_lr()))\n",
        "\n",
        "#         # Iterate over the dataset\n",
        "#         for source_image in source_dataloader:\n",
        "#           # Bring data over the device of choice\n",
        "\n",
        "#           target_image = next(iter(target_dataloader))\n",
        "#           source_imgs, source_lbls = source_image\n",
        "#           target_imgs, target_lbls = target_image\n",
        "\n",
        "#           zeros = torch.zeros(source_lbls.shape, dtype=torch.long)\n",
        "#           ones = torch.ones(target_lbls.shape, dtype=torch.long)\n",
        "          \n",
        "#           source_imgs = source_imgs.to(DEVICE)\n",
        "#           target_imgs = target_imgs.to(DEVICE)\n",
        "#           source_lbls = source_lbls.to(DEVICE)\n",
        "#           zeros = zeros.to(DEVICE)\n",
        "#           ones = ones.to(DEVICE)\n",
        "\n",
        "#           net.train() # Sets module in training mode\n",
        "\n",
        "#           dann_optimizer.zero_grad() # Zero-ing the gradients\n",
        "\n",
        "#           outputs = net(source_imgs)\n",
        "#           loss_1 = criterion(outputs, source_lbls)\n",
        "#           loss_1.backward()\n",
        "\n",
        "#           outputs = net(source_imgs, ALPHA)\n",
        "#           loss_2 = criterion(outputs, zeros)\n",
        "#           loss_2.backward()\n",
        "\n",
        "#           outputs = net(target_imgs, ALPHA)\n",
        "#           loss_3 = criterion(outputs, ones)\n",
        "#           loss_3.backward()\n",
        "\n",
        "#           # Log loss\n",
        "#           if current_step % LOG_FREQUENCY == 0:\n",
        "#             print('Step {}, Loss1 {}, Loss2 {}, Loss3 {}'.format(current_step, loss_1.item(),loss_2.item(),loss_3.item()))\n",
        "#           # Compute gradients for each layer and update weights\n",
        "#           dann_optimizer.step() # update weights based on accumulated gradients\n",
        "\n",
        "#           current_step += 1\n",
        "\n",
        "#         # Step the scheduler\n",
        "#         dann_scheduler.step()\n",
        "      \n",
        "#       net = net.to(DEVICE) # this will bring the network to GPU if DEVICE is cuda\n",
        "#       net.train(False) # Set Network to evaluation mode\n",
        "\n",
        "#       running_corrects = 0\n",
        "#       for images, labels in test_dataloader:\n",
        "#         images = images.to(DEVICE)\n",
        "#         labels = labels.to(DEVICE)\n",
        "\n",
        "#         # Forward Pass\n",
        "#         outputs = net(images)\n",
        "\n",
        "#         # Get predictions\n",
        "#         _, preds = torch.max(outputs.data, 1)\n",
        "\n",
        "#         # Update Corrects\n",
        "#         running_corrects += torch.sum(preds == labels.data).data.item()\n",
        "\n",
        "#       # Calculate Accuracy\n",
        "#       accuracy_cartoons = running_corrects / float(len(Cartoons))\n",
        "\n",
        "#       print('Test Accuracy on Cartoon: {}'.format(accuracy_cartoons))\n",
        "\n",
        "#       #Train photos, test sketches\n",
        "\n",
        "#       source_dataloader = DataLoader(Photos, batch_size=BATCH_SIZE, shuffle=True, num_workers=4, drop_last=True)\n",
        "#       target_dataloader = DataLoader(Sketches, batch_size=BATCH_SIZE, shuffle=True, num_workers=4, drop_last=True)\n",
        "#       test_dataloader = DataLoader(Sketches, batch_size=BATCH_SIZE, shuffle=False, num_workers=4)\n",
        "\n",
        "#       #SETTING UP NET\n",
        "#       dann_net = dann(pretrained = True)\n",
        "#       dann_net.classifier[6] = nn.Linear(4096, NUM_CLASSES)\n",
        "#       criterion = nn.CrossEntropyLoss() # for classification, we use Cross Entropy\n",
        "#       dann_parameters_to_optimize = dann_net.parameters()\n",
        "#       dann_optimizer = optim.SGD(dann_parameters_to_optimize, lr=LR, momentum=MOMENTUM, weight_decay=WEIGHT_DECAY)\n",
        "#       dann_scheduler = optim.lr_scheduler.StepLR(dann_optimizer, step_size=STEP_SIZE, gamma=GAMMA)\n",
        "\n",
        "#       net = dann_net.to(DEVICE) # this will bring the network to GPU if DEVICE is cuda\n",
        "\n",
        "#       cudnn.benchmark # Calling this optimizes runtime\n",
        "\n",
        "#       current_step = 0\n",
        "#       # Start iterating over the epochs\n",
        "#       for epoch in range(NUM_EPOCHS):\n",
        "#         #print('Starting epoch {}/{}, LR = {}'.format(epoch+1, NUM_EPOCHS, dann_scheduler.get_lr()))\n",
        "\n",
        "#         # Iterate over the dataset\n",
        "#         for source_image in source_dataloader:\n",
        "\n",
        "#           target_image = next(iter(target_dataloader))\n",
        "#           source_imgs, source_lbls = source_image\n",
        "#           target_imgs, target_lbls = target_image\n",
        "\n",
        "#           zeros = torch.zeros(source_lbls.shape, dtype=torch.long)\n",
        "#           ones = torch.ones(target_lbls.shape, dtype=torch.long)\n",
        "          \n",
        "#           source_imgs = source_imgs.to(DEVICE)\n",
        "#           target_imgs = target_imgs.to(DEVICE)\n",
        "#           source_lbls = source_lbls.to(DEVICE)\n",
        "#           zeros = zeros.to(DEVICE)\n",
        "#           ones = ones.to(DEVICE)\n",
        "\n",
        "#           net.train() # Sets module in training mode\n",
        "\n",
        "#           dann_optimizer.zero_grad() # Zero-ing the gradients\n",
        "\n",
        "#           outputs = net(source_imgs)\n",
        "#           loss_1 = criterion(outputs, source_lbls)\n",
        "#           loss_1.backward()\n",
        "\n",
        "#           outputs = net(source_imgs, ALPHA)\n",
        "#           loss_2 = criterion(outputs, zeros)\n",
        "#           loss_2.backward()\n",
        "\n",
        "#           outputs = net(target_imgs, ALPHA)\n",
        "#           loss_3 = criterion(outputs, ones)\n",
        "#           loss_3.backward()\n",
        "\n",
        "#           # Log loss\n",
        "#           if current_step % LOG_FREQUENCY == 0:\n",
        "#             print('Step {}, Loss1 {}, Loss2 {}, Loss3 {}'.format(current_step, loss_1.item(),loss_2.item(),loss_3.item()))\n",
        "#           # Compute gradients for each layer and update weights\n",
        "#           dann_optimizer.step() # update weights based on accumulated gradients\n",
        "\n",
        "#           current_step += 1\n",
        "\n",
        "#         # Step the scheduler\n",
        "#         dann_scheduler.step()\n",
        "      \n",
        "#       net = net.to(DEVICE) # this will bring the network to GPU if DEVICE is cuda\n",
        "#       net.train(False) # Set Network to evaluation mode\n",
        "\n",
        "#       running_corrects = 0\n",
        "#       for images, labels in test_dataloader:\n",
        "#         images = images.to(DEVICE)\n",
        "#         labels = labels.to(DEVICE)\n",
        "\n",
        "#         # Forward Pass\n",
        "#         outputs = net(images)\n",
        "\n",
        "#         # Get predictions\n",
        "#         _, preds = torch.max(outputs.data, 1)\n",
        "\n",
        "#         # Update Corrects\n",
        "#         running_corrects += torch.sum(preds == labels.data).data.item()\n",
        "\n",
        "#       # Calculate Accuracy\n",
        "#       accuracy_sketches = running_corrects / float(len(Sketches))\n",
        "\n",
        "#       print('\\nTest Accuracy Sketch: {}'.format(accuracy_sketches))\n",
        "\n",
        "#       accuracy_avg = (accuracy_sketches + accuracy_cartoons)/2\n",
        "#       if best_accuracy < accuracy_avg:\n",
        "#         best_accuracy = accuracy_avg\n",
        "#         #STORE PARAMS IF THE MODEL PERFORMS BETTER\n",
        "#         best_params = [LR,BATCH_SIZE,ALPHA]\n",
        "#       print('\\nTest Accuracy Average: {}'.format(accuracy_avg))"
      ],
      "execution_count": 0,
      "outputs": []
    },
    {
      "cell_type": "code",
      "metadata": {
        "id": "sF1yHru2PPEn",
        "trusted": true,
        "colab_type": "code",
        "colab": {
          "base_uri": "https://localhost:8080/",
          "height": 34
        },
        "outputId": "a9cf019d-e8c1-4761-b919-ec2018edb12d"
      },
      "source": [
        "best_params=[0.004, 128, 0.05] \n",
        "print(best_params)"
      ],
      "execution_count": 7,
      "outputs": [
        {
          "output_type": "stream",
          "text": [
            "[0.004, 128, 0.05]\n"
          ],
          "name": "stdout"
        }
      ]
    },
    {
      "cell_type": "markdown",
      "metadata": {
        "colab_type": "text",
        "id": "dgbv_eeq3kC1"
      },
      "source": [
        "DANN with best parameters\n",
        "\n",
        "\n",
        "\n"
      ]
    },
    {
      "cell_type": "markdown",
      "metadata": {
        "colab_type": "text",
        "id": "yNlo42XZ3kC1"
      },
      "source": [
        "_TRAIN_"
      ]
    },
    {
      "cell_type": "code",
      "metadata": {
        "trusted": true,
        "id": "7XU8fAcZJHLT",
        "colab_type": "code",
        "colab": {
          "base_uri": "https://localhost:8080/",
          "height": 680
        },
        "outputId": "aa4305ca-bb31-4c18-efef-c0f62ace011a"
      },
      "source": [
        "NUM_EPOCHS = 30\n",
        "LR_best = best_params[0]\n",
        "BS_best = best_params[1]\n",
        "ALPHA_best = best_params[2]\n",
        "\n",
        "source_dataloader = DataLoader(Photos, batch_size=BS_best, shuffle=True, num_workers=4, drop_last=True)\n",
        "target_dataloader = DataLoader(Arts, batch_size=BS_best, shuffle=True, num_workers=4, drop_last=True)\n",
        "test_dataloader = DataLoader(Arts, batch_size=BS_best, shuffle=False, num_workers=4)\n",
        "\n",
        "\n",
        "loss1_trend=[]\n",
        "loss2_trend=[]\n",
        "loss3_trend=[]\n",
        "\n",
        "#SETTING UP NET\n",
        "dann_net_best = dann(pretrained = True)\n",
        "dann_net_best.classifier[6] = nn.Linear(4096, NUM_CLASSES)\n",
        "criterion = nn.CrossEntropyLoss() # for classification, we use Cross Entropy\n",
        "dann_parameters_to_optimize = dann_net_best.parameters()\n",
        "dann_optimizer = optim.SGD(dann_parameters_to_optimize, lr=LR_best, momentum=MOMENTUM, weight_decay=WEIGHT_DECAY)\n",
        "dann_scheduler = optim.lr_scheduler.StepLR(dann_optimizer, step_size=STEP_SIZE, gamma=GAMMA)\n",
        "\n",
        "net = dann_net_best.to(DEVICE) # this will bring the network to GPU if DEVICE is cuda\n",
        "\n",
        "cudnn.benchmark # Calling this optimizes runtime\n",
        "\n",
        "current_step = 0\n",
        "# Start iterating over the epochs\n",
        "for epoch in range(NUM_EPOCHS):\n",
        "#print('Starting epoch {}/{}, LR = {}'.format(epoch+1, NUM_EPOCHS, dann_scheduler.get_lr()))\n",
        "\n",
        "    # Iterate over the dataset\n",
        "    for source_image in source_dataloader:\n",
        "        \n",
        "        tot1=0\n",
        "        tot2=0\n",
        "        tot3=0\n",
        "        # Bring data over the device of choice\n",
        "\n",
        "        target_image = next(iter(target_dataloader))\n",
        "        source_imgs, source_lbls = source_image\n",
        "        target_imgs, target_lbls = target_image\n",
        "\n",
        "        zeros = torch.zeros(source_lbls.shape, dtype=torch.long)\n",
        "        ones = torch.ones(target_lbls.shape, dtype=torch.long)\n",
        "\n",
        "        source_imgs = source_imgs.to(DEVICE)\n",
        "        target_imgs = target_imgs.to(DEVICE)\n",
        "        source_lbls = source_lbls.to(DEVICE)\n",
        "        zeros = zeros.to(DEVICE)\n",
        "        ones = ones.to(DEVICE)\n",
        "\n",
        "        net.train() # Sets module in training mode\n",
        "\n",
        "        dann_optimizer.zero_grad() # Zero-ing the gradients\n",
        "\n",
        "        outputs = net(source_imgs)\n",
        "        loss_1 = criterion(outputs, source_lbls)\n",
        "        tot1+=loss_1\n",
        "        loss_1.backward()\n",
        "\n",
        "        outputs = net(source_imgs, ALPHA_best)\n",
        "        loss_2 = criterion(outputs, zeros)\n",
        "        tot2+=loss_2\n",
        "        loss_2.backward()\n",
        "\n",
        "        outputs = net(target_imgs, ALPHA_best)\n",
        "        loss_3 = criterion(outputs, ones)\n",
        "        tot3+=loss_3\n",
        "        loss_3.backward()\n",
        "\n",
        "        # Log loss\n",
        "        if current_step % LOG_FREQUENCY == 0:\n",
        "            print('Step {}, Loss1 {}, Loss2 {}, Loss3 {}'.format(current_step, loss_1.item(),loss_2.item(),loss_3.item()))\n",
        "        # Compute gradients for each layer and update weights\n",
        "        dann_optimizer.step() # update weights based on accumulated gradients\n",
        "\n",
        "        current_step += 1\n",
        "\n",
        "    loss1_trend.append(loss_1.item())\n",
        "    loss2_trend.append(loss_2.item()) \n",
        "    loss3_trend.append(loss_3.item()) \n",
        "    dann_scheduler.step()\n",
        "\n",
        "\n"
      ],
      "execution_count": 22,
      "outputs": [
        {
          "output_type": "stream",
          "text": [
            "Step 0, Loss1 2.356233596801758, Loss2 1.3345316648483276, Loss3 0.40528181195259094\n",
            "Step 10, Loss1 0.17345784604549408, Loss2 0.41177770495414734, Loss3 0.22474637627601624\n",
            "Step 20, Loss1 0.1565515547990799, Loss2 0.19822117686271667, Loss3 1.0271129608154297\n",
            "Step 30, Loss1 0.11920784413814545, Loss2 0.02619095891714096, Loss3 0.5556310415267944\n",
            "Step 40, Loss1 0.09684641659259796, Loss2 0.02332034334540367, Loss3 0.44589248299598694\n",
            "Step 50, Loss1 0.08001980185508728, Loss2 0.15287864208221436, Loss3 0.09185474365949631\n",
            "Step 60, Loss1 0.054490577429533005, Loss2 0.032229311764240265, Loss3 0.3054831027984619\n",
            "Step 70, Loss1 0.012936022132635117, Loss2 0.047542814165353775, Loss3 0.16042423248291016\n",
            "Step 80, Loss1 0.005604837089776993, Loss2 0.05213618278503418, Loss3 0.06698757410049438\n",
            "Step 90, Loss1 0.032203808426856995, Loss2 0.03989467769861221, Loss3 0.15874092280864716\n",
            "Step 100, Loss1 0.009380381554365158, Loss2 0.08436821401119232, Loss3 0.020340368151664734\n",
            "Step 110, Loss1 0.0011305660009384155, Loss2 0.14807505905628204, Loss3 0.02967802993953228\n",
            "Step 120, Loss1 0.0024588778614997864, Loss2 0.07048144936561584, Loss3 0.011884038336575031\n",
            "Step 130, Loss1 0.002780899405479431, Loss2 0.024344567209482193, Loss3 0.008950150571763515\n",
            "Step 140, Loss1 0.009703487157821655, Loss2 0.09437857568264008, Loss3 0.006965016946196556\n",
            "Step 150, Loss1 0.00408979132771492, Loss2 0.09772499650716782, Loss3 0.03988030552864075\n",
            "Step 160, Loss1 0.014328133314847946, Loss2 0.044579729437828064, Loss3 0.054866205900907516\n",
            "Step 170, Loss1 0.005765140056610107, Loss2 0.05132899060845375, Loss3 0.06699498742818832\n",
            "Step 180, Loss1 0.00040997564792633057, Loss2 0.019083917140960693, Loss3 0.023778852075338364\n",
            "Step 190, Loss1 0.006330657750368118, Loss2 0.02937902882695198, Loss3 0.016548512503504753\n",
            "Step 200, Loss1 0.003073163330554962, Loss2 0.010068507865071297, Loss3 0.03480256721377373\n",
            "Step 210, Loss1 0.0026576220989227295, Loss2 0.03069251962006092, Loss3 0.0038971668109297752\n",
            "Step 220, Loss1 0.0008208677172660828, Loss2 0.04174799844622612, Loss3 0.0340445451438427\n",
            "Step 230, Loss1 0.0003677383065223694, Loss2 0.025240911170840263, Loss3 0.023192187771201134\n",
            "Step 240, Loss1 0.011416122317314148, Loss2 0.010003609582781792, Loss3 0.013975178822875023\n",
            "Step 250, Loss1 0.0005940422415733337, Loss2 0.05128651484847069, Loss3 0.041760511696338654\n",
            "Step 260, Loss1 0.0009560510516166687, Loss2 0.17248371243476868, Loss3 0.007799404673278332\n",
            "Step 270, Loss1 0.00022376328706741333, Loss2 0.02736825682222843, Loss3 0.029452091082930565\n",
            "Step 280, Loss1 0.00028005242347717285, Loss2 0.017219744622707367, Loss3 0.03806082904338837\n",
            "Step 290, Loss1 0.0009762421250343323, Loss2 0.035407669842243195, Loss3 0.017352156341075897\n",
            "Step 300, Loss1 0.000950247049331665, Loss2 0.012838837690651417, Loss3 0.029960211366415024\n",
            "Step 310, Loss1 0.0002942606806755066, Loss2 0.010221587494015694, Loss3 0.00768047571182251\n",
            "Step 320, Loss1 0.0007930882275104523, Loss2 0.015224735252559185, Loss3 0.030441151931881905\n",
            "Step 330, Loss1 0.0009642094373703003, Loss2 0.05327582359313965, Loss3 0.004782009869813919\n",
            "Step 340, Loss1 0.00030819326639175415, Loss2 0.06048053130507469, Loss3 0.05147009715437889\n",
            "Step 350, Loss1 0.00039089471101760864, Loss2 0.028885461390018463, Loss3 0.025303881615400314\n",
            "Step 360, Loss1 0.0003355294466018677, Loss2 0.0399506539106369, Loss3 0.006587659008800983\n",
            "Step 370, Loss1 0.000227317214012146, Loss2 0.006421207450330257, Loss3 0.004612695425748825\n",
            "Step 380, Loss1 0.001168370246887207, Loss2 0.04477843642234802, Loss3 0.042208220809698105\n"
          ],
          "name": "stdout"
        }
      ]
    },
    {
      "cell_type": "markdown",
      "metadata": {
        "colab_type": "text",
        "id": "V1zIurp63kC2"
      },
      "source": [
        "_TEST_"
      ]
    },
    {
      "cell_type": "code",
      "metadata": {
        "id": "u_PQ45KI3wCo",
        "colab_type": "code",
        "colab": {
          "base_uri": "https://localhost:8080/",
          "height": 51
        },
        "outputId": "391b49bf-0382-4c0d-c0de-545eee931c05"
      },
      "source": [
        "net = net.to(DEVICE) # this will bring the network to GPU if DEVICE is cuda\n",
        "net.train(False) # Set Network to evaluation mode\n",
        "\n",
        "running_corrects = 0\n",
        "for images, labels in test_dataloader:\n",
        "    images = images.to(DEVICE)\n",
        "    labels = labels.to(DEVICE)\n",
        "\n",
        "        # Forward Pass\n",
        "    outputs = net(images)\n",
        "\n",
        "        # Get predictions\n",
        "    _, preds = torch.max(outputs.data, 1)\n",
        "\n",
        "        # Update Corrects\n",
        "    running_corrects += torch.sum(preds == labels.data).data.item()\n",
        "\n",
        "      # Calculate Accuracy\n",
        "accuracy_best = running_corrects / float(len(Arts))\n",
        "\n",
        "print('\\nTest Accuracy Arts after XD: {}'.format(accuracy_best))"
      ],
      "execution_count": 23,
      "outputs": [
        {
          "output_type": "stream",
          "text": [
            "\n",
            "Test Accuracy Arts after XD: 0.50244140625\n"
          ],
          "name": "stdout"
        }
      ]
    },
    {
      "cell_type": "code",
      "metadata": {
        "id": "PFiPGJVEFDNB",
        "colab_type": "code",
        "colab": {}
      },
      "source": [
        "# loss1_trend = [0.17374801635742188, 0.1314830183982849, 0.10136518627405167, 0.0921366959810257, 0.04113272577524185, 0.0062138475477695465, 0.025703726336359978, 0.0015649870038032532, 0.011402472853660583, 0.0012216269969940186, 0.004506073892116547, 0.006769582629203796, 0.00040884315967559814, 0.002203267067670822, 0.0008710473775863647, 0.0008120127022266388, 0.013858657330274582, 0.0005325861275196075, 0.0008792951703071594, 0.010212782770395279, 0.007657602429389954, 0.0016020238399505615, 0.0006683245301246643, 0.00038110464811325073, 0.00015410780906677246, 0.00020063668489456177, 0.0011071264743804932, 0.0012451931834220886, 9.332597255706787e-05, 0.0042412132024765015]\n",
        "# loss2_trend = [0.2155022770166397, 1.4326051473617554, 0.15864960849285126, 0.21605674922466278, 0.3724810481071472, 0.24680110812187195, 0.27164384722709656, 0.13285022974014282, 0.10495393723249435, 0.0527406670153141, 0.03116776794195175, 0.1174980103969574, 0.04898623377084732, 0.054999709129333496, 0.04435326159000397, 0.036153510212898254, 0.09098437428474426, 0.029224302619695663, 0.012637573294341564, 0.03803441673517227, 0.07798570394515991, 0.09009431302547455, 0.055349744856357574, 0.03216855973005295, 0.05383186414837837, 0.005868272390216589, 0.04028680920600891, 0.03200049325823784, 0.05988319590687752, 0.0070512560196220875]\n",
        "# loss3_trend = [2.9216716289520264, 0.011479237116873264, 0.4099693298339844, 0.16488388180732727, 0.05375067889690399, 0.10554511845111847, 0.06133623421192169, 0.054543402045965195, 0.15832318365573883, 0.1394714117050171, 0.031028179451823235, 0.05170631781220436, 0.06556188315153122, 0.07217944413423538, 0.04782396927475929, 0.05948096513748169, 0.015436681918799877, 0.03199683129787445, 0.05964517593383789, 0.01526304055005312, 0.009227781556546688, 0.005253888666629791, 0.00945344939827919, 0.041247159242630005, 0.1071583479642868, 0.07670421898365021, 0.05070803686976433, 0.021508805453777313, 0.024618403986096382, 0.059836599975824356]\n"
      ],
      "execution_count": 0,
      "outputs": []
    },
    {
      "cell_type": "code",
      "metadata": {
        "id": "Xodlb15gFLI3",
        "colab_type": "code",
        "colab": {}
      },
      "source": [
        "# import seaborn as sns\n",
        "# import pandas as pd\n",
        "# import numpy as np\n",
        "\n",
        "# import seaborn as sns; sns.set()\n",
        "# import matplotlib.pyplot as plt\n",
        "# fig, ax = plt.subplots(figsize=(20,19), facecolor='white')\n",
        "# epochs = np.arange(10, 390, 10)\n",
        "# datas_1 = pd.DataFrame(list(zip(epochs, loss1_trend)), columns =['epoch', 'loss'])\n",
        "# datas_2 = pd.DataFrame(list(zip(epochs, loss2_trend)), columns =['epoch', 'loss'])\n",
        "# datas_3 = pd.DataFrame(list(zip(epochs, loss3_trend)), columns =['epoch', 'loss'])\n",
        "# ax = sns.lineplot(x=\"epoch\", y=\"loss\",\n",
        "#                   markers=True, dashes=False, data=datas_1)\n",
        "# ax = sns.lineplot(x=\"epoch\", y=\"loss\",\n",
        "#                   markers=True, dashes=False, data=datas_2)\n",
        "# ax = sns.lineplot(x=\"epoch\", y=\"loss\",\n",
        "#                   markers=True, dashes=False, data=datas_3)\n",
        "# for epoch, value in zip(epochs, loss1_trend):  # Plot also the value of the point close to it\n",
        "#   if epoch%20==0 or epoch==10:\n",
        "#     ax.annotate(str(round(value, 3)), xy=(epoch, value))\n",
        "# for epoch, value in zip(epochs, loss2_trend):  # Plot also the value of the point close to it\n",
        "#   if epoch%20==0 or epoch==10:\n",
        "#     ax.annotate(str(round(value, 3)), xy=(epoch, value))\n",
        "# for epoch, value in zip(epochs, loss3_trend):  # Plot also the value of the point close to it\n",
        "#   if epoch%20==0 or epoch==10:\n",
        "#     ax.annotate(str(round(value, 3)), xy=(epoch, value))\n",
        "\n",
        "# plt.ylim([0.00008, 3.2])\n",
        "# plt.gca().legend(('loss_1','loss_2','loss_3'))"
      ],
      "execution_count": 0,
      "outputs": []
    },
    {
      "cell_type": "code",
      "metadata": {
        "id": "2NeUZ6lVqQrG",
        "colab_type": "code",
        "colab": {
          "base_uri": "https://localhost:8080/",
          "height": 527
        },
        "outputId": "9ec18d44-f6b9-49e5-eec2-5d67a9a0d452"
      },
      "source": [
        "loss1_trend"
      ],
      "execution_count": 47,
      "outputs": [
        {
          "output_type": "execute_result",
          "data": {
            "text/plain": [
              "[0.12382074445486069,\n",
              " 0.29561713337898254,\n",
              " 0.14382123947143555,\n",
              " 0.031284160912036896,\n",
              " 0.034858472645282745,\n",
              " 0.0035942308604717255,\n",
              " 0.032203808426856995,\n",
              " 0.003961067646741867,\n",
              " 0.0018440932035446167,\n",
              " 0.0019530728459358215,\n",
              " 0.000642918050289154,\n",
              " 0.005781639367341995,\n",
              " 0.006057053804397583,\n",
              " 0.004191230982542038,\n",
              " 0.0011539682745933533,\n",
              " 0.0003485381603240967,\n",
              " 0.0008208677172660828,\n",
              " 0.003332965075969696,\n",
              " 0.0032816678285598755,\n",
              " 0.0006219148635864258,\n",
              " 0.0003002583980560303,\n",
              " 0.002905316650867462,\n",
              " 0.0003144294023513794,\n",
              " 0.0008694194257259369,\n",
              " 0.00020779669284820557,\n",
              " 0.0002339184284210205,\n",
              " 0.00039089471101760864,\n",
              " 0.00036558136343955994,\n",
              " 0.0008373968303203583,\n",
              " 0.000678427517414093]"
            ]
          },
          "metadata": {
            "tags": []
          },
          "execution_count": 47
        }
      ]
    },
    {
      "cell_type": "code",
      "metadata": {
        "id": "QB24gD8wqRM-",
        "colab_type": "code",
        "colab": {
          "base_uri": "https://localhost:8080/",
          "height": 527
        },
        "outputId": "6f9d66dc-2bf9-4dcb-f997-d194dcdda5d6"
      },
      "source": [
        "loss2_trend"
      ],
      "execution_count": 48,
      "outputs": [
        {
          "output_type": "execute_result",
          "data": {
            "text/plain": [
              "[0.8281202912330627,\n",
              " 0.10743284225463867,\n",
              " 0.11169187724590302,\n",
              " 0.11605018377304077,\n",
              " 0.19297954440116882,\n",
              " 0.06422784179449081,\n",
              " 0.03989467769861221,\n",
              " 0.1096176952123642,\n",
              " 0.03755435720086098,\n",
              " 0.07640165090560913,\n",
              " 0.042742494493722916,\n",
              " 0.03337383642792702,\n",
              " 0.04519584774971008,\n",
              " 0.020465606823563576,\n",
              " 0.11224959790706635,\n",
              " 0.05273832380771637,\n",
              " 0.04174799844622612,\n",
              " 0.031148066744208336,\n",
              " 0.052679069340229034,\n",
              " 0.05193962901830673,\n",
              " 0.013175712898373604,\n",
              " 0.0027082059532403946,\n",
              " 0.022616978734731674,\n",
              " 0.037403713911771774,\n",
              " 0.014797781594097614,\n",
              " 0.031422387808561325,\n",
              " 0.028885461390018463,\n",
              " 0.003317427821457386,\n",
              " 0.060044825077056885,\n",
              " 0.011173682287335396]"
            ]
          },
          "metadata": {
            "tags": []
          },
          "execution_count": 48
        }
      ]
    },
    {
      "cell_type": "code",
      "metadata": {
        "id": "CcywJQU_qRwJ",
        "colab_type": "code",
        "colab": {
          "base_uri": "https://localhost:8080/",
          "height": 527
        },
        "outputId": "34bf166b-0520-4a58-a1db-afb7bbe9d399"
      },
      "source": [
        "loss3_trend"
      ],
      "execution_count": 49,
      "outputs": [
        {
          "output_type": "execute_result",
          "data": {
            "text/plain": [
              "[0.08129019290208817,\n",
              " 1.3258754014968872,\n",
              " 0.14937929809093475,\n",
              " 0.1694713681936264,\n",
              " 0.06889358162879944,\n",
              " 0.09736867994070053,\n",
              " 0.15874092280864716,\n",
              " 0.06187071651220322,\n",
              " 0.10571575909852982,\n",
              " 0.10100208222866058,\n",
              " 0.11739642918109894,\n",
              " 0.030301697552204132,\n",
              " 0.03449234366416931,\n",
              " 0.04833976551890373,\n",
              " 0.03903837129473686,\n",
              " 0.027206385508179665,\n",
              " 0.0340445451438427,\n",
              " 0.0644519180059433,\n",
              " 0.005307487212121487,\n",
              " 0.006982255727052689,\n",
              " 0.046698976308107376,\n",
              " 0.02995307371020317,\n",
              " 0.0025762151926755905,\n",
              " 0.08218011260032654,\n",
              " 0.004877595230937004,\n",
              " 0.04061613231897354,\n",
              " 0.025303881615400314,\n",
              " 0.05253857374191284,\n",
              " 0.032399386167526245,\n",
              " 0.01096201129257679]"
            ]
          },
          "metadata": {
            "tags": []
          },
          "execution_count": 49
        }
      ]
    },
    {
      "cell_type": "code",
      "metadata": {
        "id": "z2MIFCMIfoYd",
        "colab_type": "code",
        "colab": {
          "base_uri": "https://localhost:8080/",
          "height": 1000
        },
        "outputId": "9305ca6a-6a23-4bed-a0f0-a98b0699c96f"
      },
      "source": [
        "\n",
        "import pandas as pd\n",
        "import numpy as np\n",
        "\n",
        "import matplotlib.pyplot as plt\n",
        "import matplotlib\n",
        "\n",
        "fig, ax = plt.subplots(figsize=(20,18), facecolor='white')\n",
        "epochs = np.arange(1, (len(loss1_trend)+1), 1)\n",
        "\n",
        "\n",
        "df=pd.DataFrame({'x': epochs, 'l1': loss1_trend, 'l2' : loss2_trend, 'l3' : loss3_trend})\n",
        "\n",
        "marker_style = dict(linestyle='-', \n",
        "                  markersize=5)\n",
        "\n",
        "\n",
        "x = np.array((np.arange(1,11)))*10\n",
        "\n",
        "plt.plot( 'x', 'l1', data=df, marker='o', color='blue', linewidth=1, **marker_style)\n",
        "plt.plot( 'x', 'l2', data=df, marker='o', color='orange', linewidth=1, **marker_style)\n",
        "plt.plot( 'x', 'l3', data=df, marker='o', color='green', linewidth=1, **marker_style)\n",
        "\n",
        "\n",
        "ax.set_ylabel(\"Loss\")\n",
        "ax.set_xlabel(\"Epochs\")\n",
        "ax.minorticks_on()\n",
        "plt.yticks(np.arange(0, max(loss3_trend)+.1, .1))\n",
        "plt.xticks(np.arange(0, epochs[-1]+10, 5))\n",
        "plt.grid(axis='y',which='major', linestyle='-', linewidth='.5', color='black') \n",
        "plt.grid(axis='y',which='minor', linestyle=':', linewidth='.5', color='grey')\n",
        "matplotlib.rcParams.update({'font.size': 12})\n",
        "for epoch, value in zip(epochs, loss1_trend):  # Plot also the value of the point close to it\n",
        "  if epoch%5==0 or epoch==1:\n",
        "    ax.annotate(str(round(value, 4)), xy=(epoch+0.3, value+0.005))\n",
        "for epoch, value in zip(epochs, loss2_trend):  # Plot also the value of the point close to it\n",
        "  if epoch%5==0 or epoch==1:\n",
        "    ax.annotate(str(round(value, 4)), xy=(epoch+0.3, value+0.005))\n",
        "for epoch, value in zip(epochs, loss3_trend):  # Plot also the value of the point close to it\n",
        "  if epoch%5==0 or epoch==1:\n",
        "    ax.annotate(str(round(value, 4)), xy=(epoch+0.3, value+0.005))\n",
        "plt.legend(['loss_1', 'loss_2', 'loss_3'], loc='upper right', prop={'size':20})\n",
        "plt.savefig('test_w.png', format='png', dpi=300)\n",
        "plt.show()"
      ],
      "execution_count": 53,
      "outputs": [
        {
          "output_type": "display_data",
          "data": {
            "image/png": "[encoded data removed]",
            "text/plain": [
              "<Figure size 1440x1296 with 1 Axes>"
            ]
          },
          "metadata": {
            "tags": []
          }
        }
      ]
    },
    {
      "cell_type": "code",
      "metadata": {
        "id": "bWZhvLKcqXmF",
        "colab_type": "code",
        "colab": {
          "base_uri": "https://localhost:8080/",
          "height": 1000
        },
        "outputId": "2498a33d-fca3-4c2e-82c7-db25fb5b314c"
      },
      "source": [
        "\n",
        "import pandas as pd\n",
        "import numpy as np\n",
        "\n",
        "import matplotlib.pyplot as plt\n",
        "import matplotlib\n",
        "\n",
        "fig, ax = plt.subplots(figsize=(20,18), facecolor='white')\n",
        "epochs = np.arange(1, (len(loss1_trend)+1), 1)\n",
        "\n",
        "\n",
        "import seaborn as sns\n",
        "import pandas as pd\n",
        "import numpy as np\n",
        "\n",
        "import seaborn as sns; sns.set()\n",
        "import matplotlib.pyplot as plt\n",
        "fig, ax = plt.subplots(figsize=(20,19), facecolor='white')\n",
        "\n",
        "datas_1 = pd.DataFrame(list(zip(epochs, loss1_trend)), columns =['epoch', 'loss'])\n",
        "datas_2 = pd.DataFrame(list(zip(epochs, loss2_trend)), columns =['epoch', 'loss'])\n",
        "datas_3 = pd.DataFrame(list(zip(epochs, loss3_trend)), columns =['epoch', 'loss'])\n",
        "ax = sns.lineplot(x=\"epoch\", y=\"loss\",\n",
        "                  markers=True, dashes=False, data=datas_1)\n",
        "ax = sns.lineplot(x=\"epoch\", y=\"loss\",\n",
        "                  markers=True, dashes=False, data=datas_2)\n",
        "ax = sns.lineplot(x=\"epoch\", y=\"loss\",\n",
        "                  markers=True, dashes=False, data=datas_3)\n",
        "\n",
        "ax.set_ylabel(\"Loss\")\n",
        "ax.set_xlabel(\"Epochs\")\n",
        "ax.minorticks_on()\n",
        "matplotlib.rcParams.update({'font.size': 12})\n",
        "for epoch, value in zip(epochs, loss1_trend):  # Plot also the value of the point close to it\n",
        "  if epoch%5==0 or epoch==1:\n",
        "    ax.annotate(str(round(value, 4)), xy=(epoch+0.3, value+0.005))\n",
        "for epoch, value in zip(epochs, loss2_trend):  # Plot also the value of the point close to it\n",
        "  if epoch%5==0 or epoch==1:\n",
        "    ax.annotate(str(round(value, 4)), xy=(epoch+0.3, value+0.005))\n",
        "for epoch, value in zip(epochs, loss3_trend):  # Plot also the value of the point close to it\n",
        "  if epoch%5==0 or epoch==1:\n",
        "    ax.annotate(str(round(value, 4)), xy=(epoch+0.3, value+0.005))\n",
        "plt.legend(['loss_1', 'loss_2', 'loss_3'], loc='upper right', prop={'size':20})\n",
        "plt.savefig('test_w.png', format='png', dpi=300)\n",
        "plt.gca().legend(('loss_1','loss_2','loss_3'))"
      ],
      "execution_count": 52,
      "outputs": [
        {
          "output_type": "execute_result",
          "data": {
            "text/plain": [
              "<matplotlib.legend.Legend at 0x7fbed8b64240>"
            ]
          },
          "metadata": {
            "tags": []
          },
          "execution_count": 52
        },
        {
          "output_type": "display_data",
          "data": {
            "image/png": "[encoded data removed]",
            "text/plain": [
              "<Figure size 1440x1296 with 1 Axes>"
            ]
          },
          "metadata": {
            "tags": []
          }
        },
        {
          "output_type": "display_data",
          "data": {
            "image/png": "[encoded data removed]",
            "text/plain": [
              "<Figure size 1440x1368 with 1 Axes>"
            ]
          },
          "metadata": {
            "tags": []
          }
        }
      ]
    }
  ]
}